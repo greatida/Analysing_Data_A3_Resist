{
  "cells": [
    {
      "cell_type": "markdown",
      "metadata": {
        "tags": [],
        "id": "WQeIH_0KMbrF"
      },
      "source": [
        "# Topic Modeling — With Tomotopy"
      ]
    },
    {
      "cell_type": "markdown",
      "metadata": {
        "id": "Zq5d34_eMbrJ"
      },
      "source": [
        "Author: Melanie Walsh (adapted by Federico Pianzola)"
      ]
    },
    {
      "cell_type": "markdown",
      "metadata": {
        "id": "a59qnxsAMbrK"
      },
      "source": [
        "In these lessons, we're learning about a text analysis method called *topic modeling*. This method will help us identify the main topics or discourses within a collection of texts or single text that has been separated into smaller text chunks.\n",
        "\n",
        "In this particular lesson, we're going to use [Tomotopy](https://github.com/bab2min/tomotopy) to topic model 379 obituaries published by *The New York Times*.\n",
        "\n",
        "Tomotopy is a topic modeling tool that is written purely in Python, and it seems to be a good alternative to Mallet. Mallet is a tool widely embraced throughout the DH community, but it can also pose challenges for scholars because it requires the installation and configuration of Mallet/the Java Development Kit.\n",
        "\n",
        "For reference, here are some useful tips written by Maria Antoniak: https://maria-antoniak.github.io/2022/07/27/topic-modeling-for-the-people.html"
      ]
    },
    {
      "cell_type": "markdown",
      "metadata": {
        "id": "vZaxBLpNMbrK"
      },
      "source": [
        "___"
      ]
    },
    {
      "cell_type": "markdown",
      "metadata": {
        "id": "JNOBGGAOMbrL"
      },
      "source": [
        "## Dataset"
      ]
    },
    {
      "cell_type": "markdown",
      "metadata": {
        "id": "pZCMBwSOMbrL"
      },
      "source": [
        "### *New York Times* Obituaries\n",
        "\n",
        "<blockquote class=\"epigraph\" style=\" padding: 10px\">\n",
        "\n",
        " Georgia O'Keeffe, the undisputed doyenne of American painting and a leader, with her husband, Alfred Stieglitz, of a crucial phase in the development and dissemination of American modernism, died yesterday at St. Vincent Hospital in Santa Fe, N.M.\n",
        "\n",
        "<p class =\"attribution\">\n",
        "    —Edith Evans Asbury, <a href=\"https://www.nytimes.com/1986/03/07/obituaries/georgia-o-keeffe-dead-at-98-shaper-of-modern-art-in-us.html\">Georgia O'Keefe Dead At 98</a>\n",
        "    </p>\n",
        "    \n",
        "</blockquote>"
      ]
    },
    {
      "cell_type": "markdown",
      "metadata": {
        "id": "PZ31AWMKMbrM"
      },
      "source": [
        "This dataset is based on data originally collected by Matt Lavin for his *Programming Historian* [TF-IDF tutorial](https://programminghistorian.org/en/lessons/analyzing-documents-with-tfidf#lesson-dataset). I (Melanie Walsh)) have re-scraped the obituaries so that the subject's name and death year is included in each text file name, and I have added 13 more [\"Overlooked\"](https://www.nytimes.com/interactive/2018/obituaries/overlooked.html) obituaries, including [Karen Spärck Jones](https://www.nytimes.com/2019/01/02/obituaries/karen-sparck-jones-overlooked.html), the computer scientist who introduced TF-IDF."
      ]
    },
    {
      "cell_type": "markdown",
      "metadata": {
        "id": "OgB9VqEqMbrM"
      },
      "source": [
        "___"
      ]
    },
    {
      "cell_type": "markdown",
      "metadata": {
        "id": "_JP3IN-yMbrM"
      },
      "source": [
        "## Install Packages"
      ]
    },
    {
      "cell_type": "code",
      "execution_count": 5,
      "metadata": {
        "colab": {
          "base_uri": "https://localhost:8080/"
        },
        "id": "rrBSQqiIMbrN",
        "outputId": "dec62cf1-35fc-4e4b-9502-b0e3e37463be"
      },
      "outputs": [
        {
          "output_type": "stream",
          "name": "stdout",
          "text": [
            "Collecting tomotopy\n",
            "  Downloading tomotopy-0.12.7-cp310-cp310-manylinux_2_17_x86_64.manylinux2014_x86_64.whl (17.2 MB)\n",
            "\u001b[2K     \u001b[90m━━━━━━━━━━━━━━━━━━━━━━━━━━━━━━━━━━━━━━━━\u001b[0m \u001b[32m17.2/17.2 MB\u001b[0m \u001b[31m49.5 MB/s\u001b[0m eta \u001b[36m0:00:00\u001b[0m\n",
            "\u001b[?25hRequirement already satisfied: numpy>=1.11.0 in /usr/local/lib/python3.10/dist-packages (from tomotopy) (1.25.2)\n",
            "Installing collected packages: tomotopy\n",
            "Successfully installed tomotopy-0.12.7\n"
          ]
        }
      ],
      "source": [
        "!pip install tomotopy\n",
        "\n",
        "# if you get the error: \"ERROR: Could not build wheels for tomotopy, which is required to install pyproject.toml-based projects\"\n",
        "# it's better to run this notebook on Colab"
      ]
    },
    {
      "cell_type": "code",
      "execution_count": 2,
      "metadata": {
        "colab": {
          "base_uri": "https://localhost:8080/"
        },
        "id": "oKe08kl6MbrP",
        "outputId": "cefec422-31ab-4662-b02d-498bf762f046"
      },
      "outputs": [
        {
          "output_type": "stream",
          "name": "stdout",
          "text": [
            "Collecting little_mallet_wrapper\n",
            "  Downloading little_mallet_wrapper-0.5.0-py3-none-any.whl (19 kB)\n",
            "Installing collected packages: little_mallet_wrapper\n",
            "Successfully installed little_mallet_wrapper-0.5.0\n"
          ]
        }
      ],
      "source": [
        "!pip install little_mallet_wrapper"
      ]
    },
    {
      "cell_type": "code",
      "source": [
        "# run this only if you need Colab\n",
        "# remember to put the unzipped folder \"NYT_Obituaries\"\n",
        "from google.colab import drive\n",
        "drive.mount('/content/drive')"
      ],
      "metadata": {
        "colab": {
          "base_uri": "https://localhost:8080/"
        },
        "id": "YVFt44XNM-Fu",
        "outputId": "6f72311f-bc56-4f00-e5ce-cf6c9e69ba6c"
      },
      "execution_count": 3,
      "outputs": [
        {
          "output_type": "stream",
          "name": "stdout",
          "text": [
            "Mounted at /content/drive\n"
          ]
        }
      ]
    },
    {
      "cell_type": "markdown",
      "metadata": {
        "id": "QrqA-U7NMbrQ"
      },
      "source": [
        "## Import Packages"
      ]
    },
    {
      "cell_type": "markdown",
      "metadata": {
        "id": "eZ8ljnYKMbrQ"
      },
      "source": [
        "Now let's import `tomotopy`, `little_mallet_wrapper` and the data viz library `seaborn`.\n",
        "\n",
        "We're also going to import [`glob`](https://docs.python.org/3/library/glob.html) and [`pathlib`](https://docs.python.org/3/library/pathlib.html#basic-use) for working with files and the file system."
      ]
    },
    {
      "cell_type": "code",
      "execution_count": 6,
      "metadata": {
        "id": "uwUiY_q2MbrQ"
      },
      "outputs": [],
      "source": [
        "import tomotopy as tp\n",
        "import little_mallet_wrapper\n",
        "import seaborn\n",
        "import glob\n",
        "from pathlib import Path\n",
        "import pandas as pd"
      ]
    },
    {
      "cell_type": "markdown",
      "metadata": {
        "id": "wk-uLO0FMbrR"
      },
      "source": [
        "## Get Training Data From Text Files"
      ]
    },
    {
      "cell_type": "markdown",
      "metadata": {
        "id": "M0FTD8NRMbrR"
      },
      "source": [
        "Before we topic model the *NYT* obituaries, we need to process the text files and prepare them for analysis. The steps below demonstrate how to process texts if your corpus is a collection of separate text files."
      ]
    },
    {
      "cell_type": "markdown",
      "metadata": {
        "id": "WTdaFbLaMbrS"
      },
      "source": [
        ":::{note}\n",
        "    \n",
        "We're calling these text files our *training data*, because we're *training* our topic model with these texts. The topic model will be learning and extracting topics based on these texts.\n",
        "    \n",
        ":::"
      ]
    },
    {
      "cell_type": "markdown",
      "metadata": {
        "id": "0M9dBLp_MbrS"
      },
      "source": [
        "To get the necessary text files, we're going to make a variable and assign it the file path for the directory that contains the text files."
      ]
    },
    {
      "cell_type": "code",
      "execution_count": 7,
      "metadata": {
        "id": "mk7NAGZ0MbrS"
      },
      "outputs": [],
      "source": [
        "# change the path to match the directory where you put the unzipped \"NYT-Obituaries\" folder\n",
        "directory = \"/content/drive/MyDrive/teaching/Analysing_Data/week6/NYT-Obituaries\""
      ]
    },
    {
      "cell_type": "markdown",
      "metadata": {
        "id": "MU7uWGLqMbrT"
      },
      "source": [
        "Then we're going to use the `glob.gob()` function to make a list of all (`*`) the `.txt` files in that directory."
      ]
    },
    {
      "cell_type": "code",
      "execution_count": 8,
      "metadata": {
        "id": "QD0xXrTDMbrT"
      },
      "outputs": [],
      "source": [
        "files = glob.glob(f\"{directory}/*.txt\")"
      ]
    },
    {
      "cell_type": "markdown",
      "metadata": {
        "id": "TjXWHW27MbrT"
      },
      "source": [
        "Next we process our texts with the function `little_mallet_wrapper.process_string()`.\n",
        "\n",
        "This function will take every individual text file, transform all the text to lowercase as well as remove stopwords, punctuation, and numbers, and then add the processed text to our master list `training_data`.\n",
        "\n",
        "Take a moment to study this code and reflect about what’s happening here. This is a very common Python pattern! We make an empty list, iterate through every file, open and read each text file, process the texts, and finally append them to the previously empty list.\n",
        "\n",
        "In the last line, we extract the relevant part of each file name by using `Path().stem`, which conveniently extracts just the last part of the file path without the `.txt` file extension. Because each file name includes the obituary subject’s name as well as the year that the subject died, we’re going to use this information as a title or label for each obituary."
      ]
    },
    {
      "cell_type": "code",
      "execution_count": 9,
      "metadata": {
        "id": "k6XpWeOZMbrT"
      },
      "outputs": [],
      "source": [
        "training_data = []\n",
        "original_texts = []\n",
        "titles = []\n",
        "\n",
        "for file in files:\n",
        "    text = open(file, encoding='utf-8').read()\n",
        "    processed_text = little_mallet_wrapper.process_string(text, numbers='remove')\n",
        "    training_data.append(processed_text)\n",
        "    original_texts.append(text)\n",
        "    titles.append(Path(file).stem)"
      ]
    },
    {
      "cell_type": "code",
      "execution_count": 10,
      "metadata": {
        "colab": {
          "base_uri": "https://localhost:8080/"
        },
        "id": "7MDmphVuMbrU",
        "outputId": "e778b1aa-0a91-4ac1-9d23-297fb632dfdc"
      },
      "outputs": [
        {
          "output_type": "execute_result",
          "data": {
            "text/plain": [
              "(379, 379, 379)"
            ]
          },
          "metadata": {},
          "execution_count": 10
        }
      ],
      "source": [
        "len(training_data), len(original_texts), len(titles)"
      ]
    },
    {
      "cell_type": "markdown",
      "metadata": {
        "id": "TlPeEgo-MbrU"
      },
      "source": [
        "## Train Topic Model"
      ]
    },
    {
      "cell_type": "markdown",
      "source": [
        "We’re going to train our topic model with the [`tp.LDAModel()`](https://bab2min.github.io/tomotopy/v0.12.6/en/#tomotopy.LDAModel) function, which provides Latent Dirichlet Allocation(LDA) topic modelling. Its implementation is based on following papers:\n",
        "\n",
        "* Blei, D.M., Ng, A.Y., &Jordan, M.I. (2003). Latent dirichlet allocation.*Journal of machine Learning research*, 3(Jan), 993 - 1022.\n",
        "* Newman, D., Asuncion, A., Smyth, P., &Welling, M. (2009). Distributed algorithms for topic models. *Journal of Machine Learning Research*, 10(Aug), 1801 - 1828."
      ],
      "metadata": {
        "id": "r86kfvAYRswm"
      }
    },
    {
      "cell_type": "code",
      "execution_count": 12,
      "metadata": {
        "colab": {
          "base_uri": "https://localhost:8080/"
        },
        "id": "09a-H84bMbrU",
        "outputId": "0b9f6409-778d-4b8e-ddde-e0a892ef7fac"
      },
      "outputs": [
        {
          "output_type": "stream",
          "name": "stdout",
          "text": [
            "Topic Model Training...\n",
            "\n",
            "\n",
            "Iteration: 0\tLog-likelihood: -10.176773102305846\n",
            "Iteration: 10\tLog-likelihood: -9.802372471551458\n",
            "Iteration: 20\tLog-likelihood: -9.667036386142208\n",
            "Iteration: 30\tLog-likelihood: -9.5920392930888\n",
            "Iteration: 40\tLog-likelihood: -9.536328059452682\n",
            "Iteration: 50\tLog-likelihood: -9.494089079040513\n",
            "Iteration: 60\tLog-likelihood: -9.46334498858331\n",
            "Iteration: 70\tLog-likelihood: -9.435202290149395\n",
            "Iteration: 80\tLog-likelihood: -9.407570382541357\n",
            "Iteration: 90\tLog-likelihood: -9.390482731117833\n"
          ]
        }
      ],
      "source": [
        "# Number of topics to return\n",
        "num_topics = 15\n",
        "# Numer of topic words to print out\n",
        "num_topic_words = 10\n",
        "\n",
        "# Intialize the model\n",
        "model = tp.LDAModel(k=num_topics)\n",
        "\n",
        "# Add each document to the model, after splitting it up into words\n",
        "for text in training_data:\n",
        "    model.add_doc(text.strip().split())\n",
        "\n",
        "print(\"Topic Model Training...\\n\\n\")\n",
        "# Iterate over the data 10 times\n",
        "iterations = 10\n",
        "for i in range(0, 100, iterations):\n",
        "    model.train(iterations)\n",
        "    print(f'Iteration: {i}\\tLog-likelihood: {model.ll_per_word}')\n"
      ]
    },
    {
      "cell_type": "markdown",
      "source": [
        "## Display Topics and Top Words"
      ],
      "metadata": {
        "id": "j1zSir4vVDhQ"
      }
    },
    {
      "cell_type": "markdown",
      "source": [
        "To examine the 15 topics that the topic model extracted from the NYT obituaries, run the cell below.\n",
        "\n",
        "Take a minute to read through every topic. Reflect on what each topic seems to capture as well as how well you think the topics capture the broad themes of the entire collection. Note any oddities, outliers, or inconsistencies."
      ],
      "metadata": {
        "id": "9_wOkPogU6Ll"
      }
    },
    {
      "cell_type": "code",
      "source": [
        "# Print out top 10 words for each topic\n",
        "print(\"\\nTopic Model Results:\\n\\n\")\n",
        "\n",
        "topics = []\n",
        "topic_individual_words = []\n",
        "for topic_number in range(0, num_topics):\n",
        "    topic_words = ' '.join(word for word, prob in model.get_topic_words(topic_id=topic_number, top_n=num_topic_words))\n",
        "    topics.append(topic_words)\n",
        "    topic_individual_words.append(topic_words.split())\n",
        "    print(f\"✨Topic {topic_number}✨\\n\\n{topic_words}\\n\")"
      ],
      "metadata": {
        "colab": {
          "base_uri": "https://localhost:8080/"
        },
        "id": "LzmM4c9MUvL3",
        "outputId": "b624bf86-266b-4e34-ffb2-88b14a174e47"
      },
      "execution_count": 13,
      "outputs": [
        {
          "output_type": "stream",
          "name": "stdout",
          "text": [
            "\n",
            "Topic Model Results:\n",
            "\n",
            "\n",
            "✨Topic 0✨\n",
            "\n",
            "years died two received first school born known john american\n",
            "\n",
            "✨Topic 1✨\n",
            "\n",
            "wrote said book love writer first broadway films writing story\n",
            "\n",
            "✨Topic 2✨\n",
            "\n",
            "said one house many man kennedy called also good later\n",
            "\n",
            "✨Topic 3✨\n",
            "\n",
            "president state roosevelt united states political government congress secretary truman\n",
            "\n",
            "✨Topic 4✨\n",
            "\n",
            "world million baseball game won year one played high series\n",
            "\n",
            "✨Topic 5✨\n",
            "\n",
            "miss film art theater movie york stage movies actor new\n",
            "\n",
            "✨Topic 6✨\n",
            "\n",
            "one would man life could years said much even came\n",
            "\n",
            "✨Topic 7✨\n",
            "\n",
            "made general grant gen upon men office one great without\n",
            "\n",
            "✨Topic 8✨\n",
            "\n",
            "year first time mrs became said last war family public\n",
            "\n",
            "✨Topic 9✨\n",
            "\n",
            "black justice court louis said white hoover rights king wrote\n",
            "\n",
            "✨Topic 10✨\n",
            "\n",
            "work world published university also professor book human study life\n",
            "\n",
            "✨Topic 11✨\n",
            "\n",
            "war united general army france french israel peace nations military\n",
            "\n",
            "✨Topic 12✨\n",
            "\n",
            "music band jazz new piano musical sinatra composer goodman first\n",
            "\n",
            "✨Topic 13✨\n",
            "\n",
            "new york times years business work time mrs world home\n",
            "\n",
            "✨Topic 14✨\n",
            "\n",
            "soviet party communist mao hitler china minister political union government\n",
            "\n"
          ]
        }
      ]
    },
    {
      "cell_type": "markdown",
      "metadata": {
        "id": "zDQ_jIi1MbrV"
      },
      "source": [
        "## Examine Top Documents and Titles"
      ]
    },
    {
      "cell_type": "markdown",
      "metadata": {
        "id": "c3nyz-jGMbrV"
      },
      "source": [
        "### Load topic distributions"
      ]
    },
    {
      "cell_type": "markdown",
      "source": [
        "Tomotpy also calculates the likely mixture of these topics for every single obituary in the corpus. This mixture is really a probability distribution, that is, the probability that each topic exists in the document. We can use these probability distributions to examine which of the above topics are strongly associated with which specific obituaries."
      ],
      "metadata": {
        "id": "ikX9yZ8jVg3z"
      }
    },
    {
      "cell_type": "code",
      "execution_count": 14,
      "metadata": {
        "id": "7EdADMRjMbrW"
      },
      "outputs": [],
      "source": [
        "topic_distributions = [list(doc.get_topic_dist()) for doc in model.docs]"
      ]
    },
    {
      "cell_type": "markdown",
      "source": [
        "If we look at a topic distribution in this list of `topic_distributions`, we will see a list of 15 probabilities. This list corresponds to the likelihood that each of the 15 topics exists in the selected obituary."
      ],
      "metadata": {
        "id": "YwlffmaKVydC"
      }
    },
    {
      "cell_type": "code",
      "source": [
        "topic_distributions[32]"
      ],
      "metadata": {
        "colab": {
          "base_uri": "https://localhost:8080/"
        },
        "id": "wwGvVVjgV1A1",
        "outputId": "c17bc456-ac63-4655-cba0-85b7cfb56c58"
      },
      "execution_count": 15,
      "outputs": [
        {
          "output_type": "execute_result",
          "data": {
            "text/plain": [
              "[0.053192474,\n",
              " 0.12484253,\n",
              " 0.11030467,\n",
              " 0.0117818145,\n",
              " 0.1048226,\n",
              " 0.18254249,\n",
              " 0.17403275,\n",
              " 0.03516283,\n",
              " 0.10532947,\n",
              " 0.0041501685,\n",
              " 0.055179156,\n",
              " 0.000560131,\n",
              " 0.00041021107,\n",
              " 0.02941271,\n",
              " 0.008276029]"
            ]
          },
          "metadata": {},
          "execution_count": 15
        }
      ]
    },
    {
      "cell_type": "markdown",
      "metadata": {
        "id": "kcHuAA0IMbrW"
      },
      "source": [
        "It’s a bit easier to understand if we pair these probabilities with the topics themselves. It’s a bit easier to understand if we pair these probabilities with the topics themselves. For example, as you can see below, Topic 5 “miss film theater movie broadway films” has a relatively high probability of existing in Marilyn Monroe’s obituary `.182` while Topic 14 “soviet party mao hitler china war” has a relatively low probability `.008`. This seems to comport with what we know about Marilyn Monroe."
      ]
    },
    {
      "cell_type": "code",
      "source": [
        "obituary_to_check = \"1962-Marilyn-Monroe\"\n",
        "\n",
        "obit_number = titles.index(obituary_to_check)\n",
        "\n",
        "print(f\"Topic Distributions for {titles[obit_number]}\\n\")\n",
        "for topic_number, (topic, topic_distribution) in enumerate(zip(topics, topic_distributions[obit_number])):\n",
        "    print(f\"✨Topic {topic_number} {topic[:40]} ✨\\nProbability: {round(topic_distribution, 3)}\\n\") # I'm limiting the string shown to the first 40 characters, to display only some of the words in teh topic"
      ],
      "metadata": {
        "colab": {
          "base_uri": "https://localhost:8080/"
        },
        "id": "bjC-nbT-ZT_z",
        "outputId": "e33deef2-f5bd-469b-ee31-40c16042bd8d"
      },
      "execution_count": 40,
      "outputs": [
        {
          "output_type": "stream",
          "name": "stdout",
          "text": [
            "Topic Distributions for 1962-Marilyn-Monroe\n",
            "\n",
            "✨Topic 0 years died two received first school bor ✨\n",
            "Probability: 0.05299999937415123\n",
            "\n",
            "✨Topic 1 wrote said book love writer first broadw ✨\n",
            "Probability: 0.125\n",
            "\n",
            "✨Topic 2 said one house many man kennedy called a ✨\n",
            "Probability: 0.10999999940395355\n",
            "\n",
            "✨Topic 3 president state roosevelt united states  ✨\n",
            "Probability: 0.012000000104308128\n",
            "\n",
            "✨Topic 4 world million baseball game won year one ✨\n",
            "Probability: 0.10499999672174454\n",
            "\n",
            "✨Topic 5 miss film art theater movie york stage m ✨\n",
            "Probability: 0.18299999833106995\n",
            "\n",
            "✨Topic 6 one would man life could years said much ✨\n",
            "Probability: 0.17399999499320984\n",
            "\n",
            "✨Topic 7 made general grant gen upon men office o ✨\n",
            "Probability: 0.03500000014901161\n",
            "\n",
            "✨Topic 8 year first time mrs became said last war ✨\n",
            "Probability: 0.10499999672174454\n",
            "\n",
            "✨Topic 9 black justice court louis said white hoo ✨\n",
            "Probability: 0.004000000189989805\n",
            "\n",
            "✨Topic 10 work world published university also pro ✨\n",
            "Probability: 0.054999999701976776\n",
            "\n",
            "✨Topic 11 war united general army france french is ✨\n",
            "Probability: 0.0010000000474974513\n",
            "\n",
            "✨Topic 12 music band jazz new piano musical sinatr ✨\n",
            "Probability: 0.0\n",
            "\n",
            "✨Topic 13 new york times years business work time  ✨\n",
            "Probability: 0.028999999165534973\n",
            "\n",
            "✨Topic 14 soviet party communist mao hitler china  ✨\n",
            "Probability: 0.00800000037997961\n",
            "\n"
          ]
        }
      ]
    },
    {
      "cell_type": "markdown",
      "metadata": {
        "id": "uMigQ8pWMbrX"
      },
      "source": [
        "### Display top documents"
      ]
    },
    {
      "cell_type": "markdown",
      "source": [
        "We can also display the documents with the highest probability of having a certain topic. To do that, we need the functions below. The `get_top_docs()` function is taken from Maria Antoniak's [Little Mallet Wrapper](https://github.com/maria-antoniak/little-mallet-wrapper/blob/c89bfbeddb11ddc2a6874476985275a7b2a6c1fd/little_mallet_wrapper/little_mallet_wrapper.py#L164)\n",
        "\n",
        "In the cell below, we’re importing two special Jupyter notebook display modules, which will allow us to make the relevant topic words bolded, as well as the regular expressions library `re`, which will allow us to find and replace the correct words."
      ],
      "metadata": {
        "id": "T5Jsf4F_bm68"
      }
    },
    {
      "cell_type": "code",
      "execution_count": 27,
      "metadata": {
        "id": "MJyL05X_MbrW"
      },
      "outputs": [],
      "source": [
        "from IPython.display import Markdown, display\n",
        "import re\n",
        "\n",
        "def make_md(string):\n",
        "    display(Markdown(str(string)))\n",
        "\n",
        "def get_top_docs(docs, topic_distributions, topic_index, n=5):\n",
        "\n",
        "    sorted_data = sorted([(_distribution[topic_index], _document)\n",
        "                          for _distribution, _document\n",
        "                          in zip(topic_distributions, docs)], reverse=True)\n",
        "\n",
        "    topic_words = topics[topic_index]\n",
        "\n",
        "    make_md(f\"### ✨Topic {topic_index}✨\\n\\n{topic_words}\\n\\n\")\n",
        "    print(\"---\")\n",
        "\n",
        "    for probability, doc in sorted_data[:n]:\n",
        "        # Make topic words bolded\n",
        "        for word in topic_words.split():\n",
        "            if word in doc.lower():\n",
        "                doc = re.sub(f\"\\\\b{word}\\\\b\", f\"**{word}**\", doc, re.IGNORECASE)\n",
        "\n",
        "        make_md(f'✨  \\n**Topic Probability**: {probability}  \\n**Document**: {doc}\\n\\n')\n",
        "\n",
        "    return"
      ]
    },
    {
      "cell_type": "code",
      "execution_count": 28,
      "metadata": {
        "colab": {
          "base_uri": "https://localhost:8080/",
          "height": 446
        },
        "id": "VolFFgePMbrY",
        "outputId": "47930940-0a0c-4042-d5ee-3347d7009ee0"
      },
      "outputs": [
        {
          "output_type": "display_data",
          "data": {
            "text/plain": [
              "<IPython.core.display.Markdown object>"
            ],
            "text/markdown": "### ✨Topic 0✨\n\nyears died two received first school born known john american\n\n"
          },
          "metadata": {}
        },
        {
          "output_type": "stream",
          "name": "stdout",
          "text": [
            "---\n"
          ]
        },
        {
          "output_type": "display_data",
          "data": {
            "text/plain": [
              "<IPython.core.display.Markdown object>"
            ],
            "text/markdown": "✨  \n**Topic Probability**: 0.44664448499679565  \n**Document**: 1931-Melvil-Dewey\n\n"
          },
          "metadata": {}
        },
        {
          "output_type": "display_data",
          "data": {
            "text/plain": [
              "<IPython.core.display.Markdown object>"
            ],
            "text/markdown": "✨  \n**Topic Probability**: 0.3762566149234772  \n**Document**: 1929-Marie-Curie\n\n"
          },
          "metadata": {}
        },
        {
          "output_type": "display_data",
          "data": {
            "text/plain": [
              "<IPython.core.display.Markdown object>"
            ],
            "text/markdown": "✨  \n**Topic Probability**: 0.36383166909217834  \n**Document**: 1930-Elmer-Sperry\n\n"
          },
          "metadata": {}
        },
        {
          "output_type": "display_data",
          "data": {
            "text/plain": [
              "<IPython.core.display.Markdown object>"
            ],
            "text/markdown": "✨  \n**Topic Probability**: 0.34564897418022156  \n**Document**: 1956-Charles-Merrill\n\n"
          },
          "metadata": {}
        },
        {
          "output_type": "display_data",
          "data": {
            "text/plain": [
              "<IPython.core.display.Markdown object>"
            ],
            "text/markdown": "✨  \n**Topic Probability**: 0.34225475788116455  \n**Document**: 1968-Yuri-Gagarin\n\n"
          },
          "metadata": {}
        },
        {
          "output_type": "display_data",
          "data": {
            "text/plain": [
              "<IPython.core.display.Markdown object>"
            ],
            "text/markdown": "✨  \n**Topic Probability**: 0.3419496715068817  \n**Document**: 1998-Alan-B-Shepard-Jr\n\n"
          },
          "metadata": {}
        }
      ],
      "source": [
        "# Display 6 documents for topic 0\n",
        "get_top_docs(titles, topic_distributions, topic_index=0, n=6)"
      ]
    },
    {
      "cell_type": "markdown",
      "source": [
        "### Display Topic Words in Context of Original Text"
      ],
      "metadata": {
        "id": "vyiD9qaaf6jl"
      }
    },
    {
      "cell_type": "markdown",
      "metadata": {
        "id": "DlVVEYKOMbrZ"
      },
      "source": [
        "Often it’s useful to actually look at the document that has ranked highly for a given topic and puzzle out why it ranks so highly."
      ]
    },
    {
      "cell_type": "code",
      "execution_count": 31,
      "metadata": {
        "scrolled": true,
        "tags": [
          "output_scroll"
        ],
        "colab": {
          "base_uri": "https://localhost:8080/",
          "height": 1000
        },
        "id": "-Au6U-FbMbra",
        "outputId": "f6c19c4a-ef10-4926-da83-d307c6b1b917"
      },
      "outputs": [
        {
          "output_type": "display_data",
          "data": {
            "text/plain": [
              "<IPython.core.display.Markdown object>"
            ],
            "text/markdown": "### ✨Topic 1✨\n\nwrote said book love writer first broadway films writing story\n\n"
          },
          "metadata": {}
        },
        {
          "output_type": "stream",
          "name": "stdout",
          "text": [
            "---\n"
          ]
        },
        {
          "output_type": "display_data",
          "data": {
            "text/plain": [
              "<IPython.core.display.Markdown object>"
            ],
            "text/markdown": "✨  \n**Topic Probability**: 0.3466896414756775  \n**Document**: March 19, 1986\n\n OBITUARY\n\n Bernard Malamud Dies at 71; Chronicled Human Struggle\n\n By MERVYN ROTHSTEIN\n\n Bernard Malamud, the novelist and short **story** **writer** who won two National Book Awards and the Pulitzer Prize for his chronicles of human struggle, died yesterday at his Manhattan apartment. He was 71 years old.\n\n Mr. Malamud's work showed a regard for Jewish tradition and the plight of ordinary men, and was imbued with the theme of moral wisdom gained through suffering.\n\n Mr. Malamud was considered by many critics to be one of the finest contemporary American writers. The critic Robert Alter **said** that stories like ''The First Seven Years,'' ''The\n\n Magic Barrel,'' ''The Last Mohican,'' ''Idiots First'' and ''Angel Levine'' will be read ''as long as anyone continues to care about American fiction written in the 20th century.''\n\n The author once described himself as a chronicler of ''simple people struggling to make their lives better in a world of bad luck.'' One of his last appearances was at the PEN Congress in New York in January where he read from his works.\n\n In his work, Mr. Malamud often combined fantasy and reality to create a world that was both the same and different from the one we live in.\n\n In ''Angel Levine,'' a black, rather seedy-looking angel appears to a retired Jewish tailor; in ''The Jewbird,'' a Yiddish-accented vagabond makes his way into an urban Jewish household in the form of a crow; in ''Idiots First,'' the Angel of Death, alias Ginzburg, pursues a desperate Jew trying to scrape together money to send his idiot son to California on the midnight train. ''Malamud has been in the fable business, so to speak,'' the critic Alan Lelchuk **wrote**.\n\n Mr. Malamud's **first** novel, ''The Natural,'' an allegory about the rise and fall of a baseball player, was published in 1952. It is different from most of his work in that there are no Jewish characters. After the **book** was made into a movie starring Robert Redford in 1984, Mr. Malamud **said** in an interview that he was grateful for the film because it allowed him ''to be recognized once more as an American **writer**'' as opposed to a Jewish writer. But ''The Natural'' is similar to his later novels and stories in that it lies in the realm of a morality play. ''Malamud has always had a fondness for telling tales arranged for the purpose of a specific moral lesson,'' Mr. Lelchuk **wrote**. ''Neither realism nor surrealism has been his forte through the years,'' he continued, ''but the fable, the parable, the allegory, the ancient art of basic storytelling in a modern voice; through this special mode he has earned his high place in contemporary letters.'' ''The Assistant,'' his second novel, and the one many critics consider his best, was published in 1957. Set in the Depression, it tells of a Jewish grocery store owner and his Italian assistant, and it, too, is much like a morality play. ''The Fixer'' (1966) was inspired by the ordeal of Mendel Beiliss, a Jew tried and acquitted of ritual murder in Kiev in czarist Russia of 1913. ''The Magic Barrel,'' the author's **first** collection of short stories, was given the National Book Award in 1959.\n\n On the basis of ''The Assistant'' and ''The Fixer,'' critics began to think of Mr. Malamud as a ''Jewish writer'' along with Saul Bellow and\n\n Philip Roth.\n\n Mr. Malamud, however, said that he found the label of ''Jewish writer'' inadequate. He said that the three writers shared more differences than similarities, and that, in his case,\n\n Jewishness was more a spiritual than a cultural or a religious quality. ''I was concerned with what Jews stood for,'' he said, ''with their getting down to the bare bones of things. I was concerned with their ethicality - how Jews felt they had to live in order to go on living.''\n\n And at another time he commented: ''Jewishness is important to me, but I don't consider myself only a Jewish writer. I have interests beyond that, and I feel I'm **writing** for all men.''\n\n Mr. Roth agreed with Mr. Malamud. ''The Jews of 'The Magic Barrel' and the Jews of 'The Assistant' are not the Jews of New York City or Chicago,'' Mr. Roth wrote. ''They are Malamud's invention, a metaphor of sorts to stand for certain possibilities and promises.''\n\n Later Works Criticized\n\n Mr. Malamud's later works - ''Pictures of Fidelman,'' ''The Tenants,'' ''God's Grace'' and to a lesser extent, ''Dubin's\n\n Lives'' - got mixed reviews. Many critics cited a growing bleakness in his work, saying that as he left his Jewish milieu for academic and other settings his work took on a flinty emptiness without the poignance and meaning that characterized his earlier novels. His argument with God, they said, seemed to wither into a seminar.\n\n Others, however, saw a growth in these works - his handling in ''The Tenants'' of the cultural and psychological upheaval among blacks caused by the rise of nationalism, separatism and racial pride; the powerful presence of nature in ''Dubin's Lives,'' something new for an author whose works for the most part had urban settings, and the concern with man's survival in the nuclear age in ''God's Grace.''\n\n Bernard Malamud was born April 26, 1914, in Brooklyn, the eldest of two sons of Russian Jewish immigrants, Max Malamud and the former Bertha Fidelman.\n\n His father ran a small grocery, working 16 hours a day - he served as a model for the Jewish grocer in ''The Assistant.'' Looking back on his childhood, Mr. Malamud would recall that there were no books in his home, no cultural nourishment at all except that on Sundays he would listen to someone else's piano through the living room window.\n\n He attended Erasmus Hall High School in Brooklyn, and in 1936 he received his B.A. from the City College of New York. After graduation, he worked in a factory, in various stores and as a clerk in the\n\n Census Bureau in Washington, **writing** in his spare time.\n\n Began Teaching High School\n\n In 1940, he got a job teaching at Erasmus Hall Evening High School, and he would continue to teach in New York City evening high schools until 1949. While he was teaching, he earned an M.A. at Columbia\n\n University in 1942.\n\n Mr. Malamud often said that the advent of World War II and the Holocaust first made him sure that he had something to say as a writer. Until then, he said, he had not given much thought to what it meant to be Jewish, but the horror of the war - as well as the fact that he had married a gentile woman, Ann de Chiara, in 1945 - made him question his own identity as a Jew and compelled him to start reading about Jewish tradition and history. He knew then, he said, that he really wanted to write. ''The suffering of the Jews is a distinct thing for me,'' he once explained. ''I for one believe that not enough has been made of the tragedy of the destruction of six million\n\n Jews. Somebody has to cry - even if it's a writer, 20 years later.''\n\n In 1949, he got a job teaching English at Oregon state University, where he stayed until 1961, becoming an associate professor. He wrote four books there - ''The Natural,'' ''The\n\n Assistant,'' ''The Magic Barrel'' and his third novel, ''A New Life'' (1961), which is set in the Pacific Northwest at a college not unlike Oregon\n\n State.\n\n In 1961, he went to teach at Bennington College in Vermont, where he taught for more than 20 years, with the exeception of two years he spent as a visiting lecturer at Harvard from 1966 to 1968.\n\n In 1963, he published ''Idiots First,'' another **story** collection. That was followed by ''The Fixer'' (1966), ''Pictures of Fidelman,'' stories about one central character (1969); ''The Tenants,'' a novel about the conflict between two writers, one Jewish and the other black (1971); ''Rembrandt's Hat,'' more stories (1973); ''Dubin's Lives,'' a novel about a biographer in midlife that many critics consider one of his best (1979); ''God's Grace,'' a novel (1982), and ''The Stories of Bernard Malamud'' (1983). 'Story, Story, Story'\n\n Mr. Malamud was a firm believer that a story should tell a story. ''With me, it's story, story, story,'' he once said. ''Writers who can't invent stories often pursue other strategies, even substituting style for narrative. I feel that story is the basic element of fiction though that ideal is not popular with disciples of the 'new novel.' They remind me of the painter who couldn't paint people, so he painted chairs. ''The story will be with us as long as man is. You know that, in part, because of its effect on children. It's through story they realize that mystery won't kill them. Through story they learn they have a future.''\n\n He did not find writing an easy task. ''The idea is to get the pencil moving quickly,'' he said. ''Once you've got some words looking back at you you can take two or three - or throw them away and look for other. I go over and over a page. Either it bleeds and shows it's beginning to be human, or the form emits shadows of itself and I'm off. I have a terrifying will that way.''\n\n In his writing, he prized the idea of swift transition - changing a scene in one sentence between paragraphs -and he thought he might have achieved that talent by studying intercutting in motion pictures. ''I was influenced very much by Charlie Chaplin movies,'' he said, ''by the rhythm and snap of his comedy and his wonderful, wonderful mixture of comedy and sadness.''\n\n He acknowledged that sadness was one of his prime topics. ''People say I write so much about misery,'' he said, but added, ''you write about what you write best.''\n\n He described the essential Malamud character as ''someone who fears his fate, is caught up in it, yet manages to outrun it; he's the subject and object of laughter and pity.''\n\n In addition to the Pulitzer and the National Book Awards, Mr. Malamud won the Rosenthal Award of the National Institute of Arts and Letters, Vermont's 1979 Governor's Award for Excellence in the Arts and the 1981 Brandeis Creative Arts Award. He was a member of the American Academy and institute of Arts and Letters, which in 1983 presented him its Gold Medal in Fiction. From 1979 to 1981 he was president of the PEN American Center.\n\n For many years, Mr. Malamud did not become involved in social issues, arguing that for an author writing was involvement enough. But as president of PEN, he protested the repression of writers in the\n\n Soviet Union and South Africa and the curtailing of First Amendment rights.\n\n Although he granted occasional interviews, Mr. Malamud led an intensely private life. In ''The Ghost Writer,'' Philip Roth created a character named E. I. Lonoff, a novelist ''deeply skeptical of the public world,'' whose ideas of work and esthetic purity obliged him to live a life of solitude. A number of critics have suggested that Lonoff was a portrait of Mr. Malamud.\n\n Mr. Roth was a good friend of Mr. Malamud, and it is perhaps he who best summed up Mr. Malamud's work. Noting that Mr. Malamud was once supposed to have remarked that ''all men are Jews,''\n\n Mr. Roth said: ''What it is to be human, and to be humane, is his deepest concern.'\n\n He is survived by his wife, and by his son Paul and his daughter Janna.\n\n \n\n\n\n"
          },
          "metadata": {}
        },
        {
          "output_type": "display_data",
          "data": {
            "text/plain": [
              "<IPython.core.display.Markdown object>"
            ],
            "text/markdown": "✨  \n**Topic Probability**: 0.3140312731266022  \n**Document**: February 14, 2000\n\n OBITUARY\n\n Charles M. Schulz, 'Peanuts' Creator, Dies at 77\n\n By SARAH BOXER\n\n Charles M. Schulz, the creator of ''Peanuts,'' the tender and sage comic strip starring Charlie Brown and Snoopy that is read by 355 million people around the world, died in his sleep on Saturday night at his home in Santa Rosa, Calif., just hours before his last cartoon ran in the Sunday newspapers. He was 77.\n\n The cause of death was colon cancer, **said** Paige Braddock, creative director for Charles M. Schulz Creative Associates.\n\n Mr. Schulz drew ''Peanuts'' for nearly half a century. He swore that no one else would ever draw the comic strip and he kept his word. For years he drew ''Peanuts'' with a hand tremor. He finally put down his pen when he received a diagnosis of colon cancer after abdominal surgery in November.\n\n His last daily strip ran on Jan. 3. His last Sunday page, which ran yesterday, carried a signed farewell in which he **said**, ''Charlie Brown, Snoopy, Linus, Lucy . . . how can I ever forget them. . . .'' His wife, Jeannie, said, ''He had done everything he wanted.''\n\n Lynn Johnston, a friend of Mr. Schulz and the creator of ''For Better or for Worse,'' told The Associated Press, ''It's amazing that he dies just before his last strip is published.'' Such an ending, she said, was ''as if he had written it that way.''\n\n She recalled something Mr. Schulz told her as she sat in the hospital with him last year: ''You control all these characters and the lives they live. You decide when they get up in the morning, when they're going to fight with their friends, when they're going to lose the game. Isn't it amazing how you have no control over your real life?'' But, Ms. Johnston said, ''I think, in a way, he did.''\n\n The life of ''Peanuts'' and Charles Schulz were completely intertwined. ''The strip and he were one,'' said Patrick McDonnell, who draws the cartoon ''Mutts.'' ''He put his heart and soul into that strip.'' ''Peanuts,'' which reached readers in 75 countries, 2,600 papers and 21 languages every day, made Mr. Schulz very rich. The ''Peanuts'' strips, merchandise and product endorsements brought in $1.1 billion a year. And Mr. Schulz was said to have earned about $30 million to $40 million annually.\n\n His saga of Charlie Brown, Snoopy, Lucy and Linus ''is arguably the longest **story** ever told by one human being,'' Robert Thompson, a professor of popular culture at Syracuse University, observed on the PBS ''NewsHour'' with Jim Lehrer, longer than any epic poem, any Tolstoy novel, any Wagner opera. In all Mr. Schulz drew more than 18,250 strips in nearly 50 years.\n\n Jules Feiffer, the cartoonist and playwright, said that the ''Peanuts'' characters endure because they were the **first** real children in the comics pages, ones with doubts and anxieties. And there were a lot of them. ''Linus,\n\n Lucy, Charlie Brown -- these interesting little people formed a repertory company,'' he said.\n\n A Long-Running Ensemble Act\n\n The cast of ''Peanuts'' changed remarkably little. It included Charlie Brown, a wishy-washy boy with a tree-loving kite and a losing baseball team; Snoopy, an unflappable beagle with a fancy inner life; Lucy, a fussbudget with a football and a curbside psychiatric clinic; Linus, a philosophical blanket-carrier; Sally, Charlie Brown's romantic little sister; Schroeder, a virtuoso on the toy piano and a Beethoven devotee; Peppermint\n\n Patty, a narcoleptic D-minus student; and, in later years, Woodstock, a small, expressive but speechless bird.\n\n Mr. Schulz remembered waking up in the night many years ago and thinking, ''Good grief, who are all these little people? Must I live with them for the rest of my life?'' The answer was yes.\n\n Charles Monroe Schulz, the son of Carl Schulz, a barber, like Charlie Brown's father, and the former Dena Halverson, was born in Minneapolis on Nov. 26, 1922. Young Charles was nicknamed Sparky after the horse Spark Plug in the comic strip ''Barney\n\n Google.'' He had a black-and-white dog named Spike (memorialized in the character of Snoopy's skinny Western brother).\n\n He wanted to be a cartoonist as a child and practiced by drawing Popeye. ''Someday, Charles, you're going to be an artist,'' a kindergarten teacher told him after looking at his drawing of a man shoveling snow. His ambition was to do a comic strip as good as George Herriman's ''Krazy Kat,'' but Mr. Schulz also admired Picasso, Andrew Wyeth and Edward Hopper. Snoopy kept a van Gogh and a Wyeth in his doghouse.\n\n The hurts of Mr. Schulz's early years provided a lifetime of material. At Central High School in St. Paul, he flunked Latin, English, algebra and physics. ''Ripley's Believe It or Not!'' accepted one of his drawings when he was 15 -- a picture of Spike illustrating ''a hunting dog that eats pins, tacks and razor blades'' -- but the cartoons he drew for his high school yearbook were rejected. Mr.\n\n Schulz remembered his failures more vividly than his successes.\n\n After his high school graduation he took a correspondence course from Art Instruction Inc., but before he could start a career he was drafted into the Army. He left for boot camp only days after his mother died of cancer. (Mr. Schulz later suggested that this coincidence might have been the reason for his lifelong hatred of travel.) During World War II, from 1943 to 1945, Mr. Schulz served in France and Germany and became a staff sergeant in the 20th Armored Division. He once refused to toss a grenade into an artillery emplacement because he saw a little dog wander into it.\n\n After the war he tried various odd jobs: lettering the comics at a Catholic magazine called Timeless Topix; drawing a weekly cartoon called ''Li'l Folks,'' the precursor to ''Peanuts,'' for the St. Paul Pioneer\n\n Press; and selling occasional spot cartoons to The Saturday Evening Post.\n\n He also taught at Art Instruction Inc. There he fell in **love** with a redhead, Donna Johnson, and proposed marriage. She turned him down and married a fireman instead. He never forgot. Ms. Johnson became the Little Red-Haired Girl, Charlie Brown's unrequited **love**, who was often talked about but never seen in the strip. Mr. Schulz married Joyce Halverson in 1949; the marriage ended in divorce. ''You can't create humor out of happiness,'' Mr. Schulz said in his 1980 **book**, ''Charlie Brown, Snoopy and Me.'' ''I'm astonished at the number of people who write to me saying, 'Why can't you create happy stories for us? Why does Charlie Brown always have to lose? Why can't you let him kick the football?' Well, there is nothing funny about the person who gets to kick the football.''\n\n The strip's start was bittersweet. In 1949 Mr. Schulz submitted some of his ''Li'l Folks'' comic strips to United Feature Syndicate. The syndicate liked the strip but insisted on calling it ''Peanuts'' because ''Li'l Folks'' was too similar to the name of another strip. ''I was very upset with the title,'' Mr. Schulz once said, ''and still am.''\n\n On Oct. 2, 1950, the **first** ''Peanuts'' strip was published. It depicted two children sitting on the sidewalk discussing Charlie Brown: ''Well, here comes ol' Charlie Brown!'' . . . ''Good ol'\n\n Charlie Brown'' . . . ''Yes, sir! Good ol' Charlie Brown.'' And then, as Charlie Brown passes them, ''How I hate him!''\n\n That year seven newspapers bought ''Peanuts,'' and Mr. Schulz earned $90 a week in royalties. But by 1953 the cartoon was a hit and he was earning $30,000 a year. In 1955 (and again in 1964) the National Cartoonists Society awarded\n\n Mr. Schulz the Reuben for being the outstanding cartoonist of the year. He received the Yale Humor Award in 1956 and the School Bell Award from the National Education Association in 1960.\n\n Unrequited Love With Roots in Real Life ''Peanuts'' was based on repetition and predictability. As Mr. Schulz put it, ''All the loves in the strip are unrequited; all the baseball games are lost; all the test scores are D-minuses; the Great Pumpkin never comes; and the football is always pulled away.'' One of the few innovations Mr. Schulz introduced was allowing Snoopy (after eight years) to stand on two feet and to have his thoughts written out in balloons.\n\n Snoopy could always be counted on to nap, fantasize and wonder when his next meal would arrive. Charlie Brown, the round-headed blockhead (named after one of Mr. Schulz's childhood friends, not after the cartoonist himself), could always be counted on to persevere despite constant failure. He once held onto the string of a kite that was stuck in a tree for eight days running, until the rain made him stop. At the time it was the longest run of immobility for any cartoon character. His first home run came after nearly 43 years of strike outs, on March 30, 1993.\n\n No adult ever appeared in ''Peanuts,'' though in television specials there were occasional wah-wah sounds denoting the voices of teachers and parents. As Mr. Schulz once put it, ''Well, there just isn't room for them.''\n\n Curses never got worse than ''Aaugh!'' ''Good grief,'' ''Rats!'' ''Curse you, Red Baron!'' or a knot of lines scrunched up in frustration.\n\n The strips were just the beginning. In 1952 Mr. Schulz started turning out ''Peanuts'' books: ''Peanuts,'' ''More Peanuts,'' ''Good Grief, More Peanuts!'' ''Good\n\n Ol' Charlie Brown,'' ''Happiness Is a Warm Puppy'' and dozens more. New compilations rolled off the presses every year for decades.\n\n Eventually ''Peanuts'' was translated into Serbo-Croatian, Malay, Chinese, Tlingit, Catalan and 15 other languages. Books came out with titles like, ''Het Grote Snoopy Winterspelletjes-Boek'' and ''Du\n\n Bist Sub, Charlie Braun.''\n\n The 1960's brought animated ''Peanuts'' television specials. The first was ''A Charlie Brown Christmas,'' which Mr. Schulz **wrote** in one weekend with Lee Mendelson. Accompanied by Vince Guaraldi's jazz piano, animated by Bill Melendez and unassisted by any laugh track, ''A Charlie Brown Christmas'' was shown on CBS in 1965 (and still runs every winter). It won an Emmy and a\n\n Peabody. Many more television specials followed, including ''It's the Great Pumpkin, Charlie Brown.'' Five of the specials won Emmys. There were also ''Peanuts'' feature **films**, including ''A Boy Named Charlie Brown.''\n\n The takeoffs came rolling in. In 1966 the Royal Guardsmen **wrote** a rock song, ''Snoopy and the Red Baron.'' In 1967 a musical, ''You're a Good Man, Charlie Brown,'' was produced Off Broadway. (A 1999 revival on Broadway won two Tony Awards.) ''Peanuts Gallery,'' a concerto, was composed by Ellen Taaffe Zwilich and had its premiere at Carnegie\n\n Hall in 1997. Mr. Schulz received the Ordre des Arts et des Lettres from the French Ministry of Culture. In 1990 his work was shown at the Louvre; the gala had Snoopys in couture.\n\n Many pundits tried to put their finger on the ''Peanuts'' spell and they generally rambled on in a vaguely philosophical vein. Umberto Eco, who wrote the introduction to the first Italian ''Peanuts'' **book**, referred to Mr. Schulz's work as ''poesie interrompue,'' or interrupted poetry, and, using Freud, Beckett, Adler and Thomas Mann to back him up, said, ''These children affect us because in a certain sense they are monsters; they are the monstrous infantile reductions of all the neuroses of a modern citizen of the industrial civilization.''\n\n In an essay called ''Peanuts: The Americanization of Augustine,'' Arthur Asa Berger, a scholar of popular culture, observed that Mr. Schulz was ''a mirthful moralist'' and a master of Freudian humor, humor that ''serves to mask aggression.''\n\n Mr. Berger called Snoopy ''an existential hero in every sense of the term,'' a dog who ''strives, with dogged persistence and unyielding courage, to overcome what seems to be his fate -- that he is a dog.'' He is ''a bon vivant, he participates in history, he has an incredible imagination, he is witty, he expresses himself with virtuosity in any number of ways (eye movements, ear movements, tail movements, wisecracks, facial expressions) and he is superb as mimic and dancer.''\n\n The most concerted attempt to bring ''Peanuts'' to heel philosophically came in the 1960's when Robert L. Short, a minister, wrote two books on ''Peanuts'' theology, ''The Gospel According to Peanuts'' (1964) and ''The Parables of Peanuts'' (1968). The Rev. Short saw signs of original sin in the ''Peanuts'' children, who were unable ''to produce any radical change for the better in themselves -- or in each other.'' He saw ''the hazard of worshiping deities'' demonstrated in Linus's belief in the Great Pumpkin.\n\n And he called Snoopy ''a typical Christian,'' a flawed character who is nonetheless good: ''He is lazy, he is a 'chow hound' without parallel, he is bitingly sarcastic, he is frequently a coward,'' Mr. Short wrote. But he is ''a hound of heaven.''\n\n If the ''Peanuts'' characters left themselves open to the maunderings of philosophers, ministers and analysts, they were even more vulnerable to toy, card, book and clothing manufacturers.\n\n The licensing madness began in 1958 when the first plastic Snoopy and Charlie Brown came out. In 1960 Hallmark began printing ''Peanuts'' cards and party goods. Then came sweatshirts and pajamas, thermoses and lunch boxes. Plush Snoopy came in 1965. Woodstock slippers, Lucy picture frames, Charlie Brown music boxes followed. Mr. Schulz vetted all products for appropriateness and rejected some: baby wipes for aesthetic reasons, ashtrays, vitamins, sugary breakfast cereals, ice skates and tennis rackets.\n\n There were commercials too. In 1957 the ''Peanuts'' characters started selling Ford Falcons. For 15 years they worked for the Metropolitan Life Insurance Company. Snoopy was the official mascot of NASA, and in 1969 NASA's lunar excursion module on the Apollo 11 mission was called Snoopy. The command module was Charlie Brown.\n\n A Menagerie Of Merchandising\n\n By 1999 there were 20,000 different new products each year adorned by ''Peanuts'' characters. In 1994 Mr. Schulz was inducted into the Licensing Industry Merchandisers' Association Hall of Fame. Jim Davis, the creator of the cartoon ''Garfield,'' who is no stranger to commercialization, said, ''Schulz created the industry as far as cartooning and licensing go.''\n\n When asked whether he minded his characters selling merchandise, Mr. Schulz said, ''I don't think there's such a thing as going commercial with a comic strip because a comic strip is a commercial right from the beginning.''\n\n It is there to sell newspapers, he said.\n\n In 1989 Forbes listed the cartoonist among the ten wealthiest entertainers, earning $32 million a year.\n\n Nonetheless his lifestyle remained simple. Mr. Schulz, who hated to travel, said he would have been happy living his whole life in Minneapolis. But ''I had a restless first wife,'' so they moved to Sebastopol, Calif., and he set up his studio in Santa Rosa. In 1969, after the local ice rink closed, he and his wife, Joyce, built a new one, the Redwood Empire Ice Skating Arena. ''Because of Snoopy's hockey playing,''\n\n Mr. Schulz explained, ''I have to keep in the game. So I bought an arena.''\n\n Charles and Joyce Schulz had five children, but the marriage ended in divorce in 1972. He said, ''I don't think she liked me anymore, and I just got up and left one day.'' A year later he met Jeannie Clyde at the ice rink and married her.\n\n Mr. Schulz's workday typically began with a trip in his Mercedes (license plate WDSTK1, after Woodstock) down from the hills near where he lived, breakfast at the ice rink's Warm Puppy Snack Bar, a trip to his stone-and-redwood studio at One\n\n Snoopy Place to draw his strip, lunch at the ice rink, more work in the afternoon in his studio and dinner at a restaurant with his wife.\n\n While his small staff dealt with the commercial end of the business, he attended only to drawing. He used a yellow legal pad for sketching and drew with an Esterbrook Radial pen. He would start doodling until something funny happened. He never took suggestions from anyone (though he did draw on conversations, newspapers, Bartlett's Familiar Quotations, and his children's antics. ''Drawing a daily comic strip is not unlike having an English theme hanging over your head every day for the rest of your life,'' he once said. He could do a strip an hour and six strips a day, but preferred not to. He generally kept three months ahead of publication and never took more than ten days off at a time, and then only reluctantly. ''Peanuts'' continued to appear when Mr. Schulz had quadruple-bypass heart surgery in 1981. And it was only under orders from United Feature that he took off for five weeks in 1997 for his 75th birthday.\n\n Jeannie Schulz once said that all the characters in ''Peanuts'' are parts of her husband. ''He's crabby like Lucy, diffident like Charlie Brown. There's a lot of Linus -- he's philosophical and wondering about life.'' Like Schroeder, he loved classical music, though he preferred Brahms to Beethoven. And like Snoopy, he was a war buff. Snoopy had all of World War I covered. But Mr. Schulz knew all the World War II battlegrounds and was the head of a capital fund-raising campaign for the National D-Day Memorial.\n\n He was a member of the Church of God, where he was a Sunday school teacher and administrator and would occasionally deliver the Sunday sermon.\n\n People described Mr. Schulz as looking like a druggist. He found Garry Trudeau's ''Doonesbury'' and Walt Kelly's ''Pogo'' too political, but he admired the work of Cathy Guisewite, the cartoonist who draws ''Cathy,'' and Ms. Johnston, of ''For Better or for Worse.'' His favorite ice cream flavor was vanilla.\n\n Mr. Schulz is survived by his wife, a philanthropist, and his children: Meredith Hodges, who raises mules in Loveland, Colo.; Charles Jr. (called Monte), a novelist in Nevada City, Calif.; Craig, a private pilot in Santa Rosa; Amy Johnson, a homemaker with nine children in Alpine, Utah; and Jill Schulz Transki, who runs an in-line skating business with her husband in Santa Barbara, Calif. He is also survived by two stepchildren, Brooke Clyde, a lawyer in Santa Rosa, and Lisa Brockway, a homemaker in Ashland, Oregon; and 18 grandchildren.\n\n Personal Anxieties Shared With Millions\n\n Despite his large family and large success he was a melancholy man who worried and was often lonely, depressed and plagued by panic attacks, features that Rheta Grimsley Johnson brought out in her 1989 biography ''Good Grief: The Story of Charles\n\n M. Schulz.'' Sally, Charlie Brown's sister, put it well in a school report on night and day: ''Daytime is so you can see where you're going. Nighttime is so you can lie in bed worrying.''\n\n Mr. Schulz had a white terrier named Andy, played golf (12 handicap), tennis (for a while with Billie Jean King) and bridge. But he was most devoted to hockey and ice skating. He was a right-handed shot.\n\n He hated cats, coconut and sleeping away from home. And he never forgot a slight. Ms. Johnston once said, ''He's bitter about the little red-haired girl who didn't marry him, he's bitter about his divorce, he's bitter about getting old.'' And he was bitter about the lack of recognition cartoonists get. This is what he said about cartooning: ''It will destroy you. It will break your heart.''\n\n The creator of one of the least troubled dogs of all time, Mr. Schulz compared his own panic to that of a dog ''running frantically down the road pursuing the family car.'' The dog ''is not really being left behind,'' he said, ''but for that moment in his limited understanding, he is being left alone forever.''\n\n As Mr. Schulz got older he began to think about the end of his strip. His hand quavered, but he knew that he did not want anyone else to draw the cartoon. ''Everything has to end,'' he once said. ''This is my excuse for existence.\n\n No one else will touch it.'' In November he was hospitalized for colon cancer and started chemotherapy. On Dec. 14 he announced that his strip would end. But thoughts of death had long since seeped into his strip. ''After you've died, do you get to come back?'' Linus once asked Charlie Brown. He replied, ''If they stamp your hand.''\n\n Mr. Schulz always felt for the little man and the little animal. He once said that his philosophy of life could be found in the Gospel of St. Luke: ''It were better for him that a millstone were hanged about his neck, and he cast into the sea, than that he should offend one of these little ones.''\n\n Intertwined Lives: Complex 'Peanuts' Personalities and Their Creator\n\n Charlie Brown\n\n Also known as Blockhead, Good Ol' Charlie Brown, Chuck, Charles and Mr. Sack (which he was briefly called when he wore a sack over his head at camp to cover up a rash that looked like the stitching on a baseball).\n\n First appearance Oct. 2, 1950. Named for Charles M. Schulz's acquaintance, Charlie Brown. (As Mr. Schulz remembered the namesake, ''He was a very bright young man with a lot of enthusiasm for life. I began to tease him about his love for parties and I used to say, 'Here comes good ol' Charlie Brown, now we can have a good time.' '')\n\n Sister Sally\n\n Unrequited love The Little Red-Haired Girl.\n\n True friends Linus, various pen pals (beginning on Sept. 1, 1958).\n\n Accomplishments Had numerous footballs pulled from under him by Lucy, beginning on Nov. 16, 1952. Managed baseball team that never won. Hit one home run, on March 30, 1993. (''Winning is great, but it isn't funny,'' Mr. Schulz explained.) Lost many kites to vicious trees. Served as camp president when he was known as Mr. Sack.\n\n Traits Round-headed, plain, gentle, decent, optimistic, unpopular, anxious.\n\n Snoopy\n\n Also known as World War I Flying Ace, Sugar Lips (he wished).\n\n First appeared Oct. 4, 1950.\n\n Born Daisy Hill Puppy Farm.\n\n Owner Charlie Brown.\n\n Siblings Spike, Belle, Marbles, Olaf, Andy. Adopted by NASA, as a promotional stunt in 1968.\n\n Accomplishments Walking on hind feet, thinking thoughts and sleeping on a pitched-roof doghouse, starting in 1960. (''There were other events, but the best thing I ever thought of was Snoopy using his own imagination,'' Mr. Schulz said. ''I don't recall how he got on top of the doghouse, but the first time he fell off, the strip ended with his saying, 'Life is full of rude awakenings.' '') Battled the Red Baron from his Sopwith Camel doghouse, beginning on Oct. 10, 1965, often shouting his fighting words, ''Curse you, Red Baron.''\n\n Occupations Surgeon (in order to wear green booties), artist, lawyer, beagle scout with bird troop, skating coach and, beginning on July 12, 1965, novelist (published ''It Was a\n\n Dark and Stormy Night'' in 1971) and more than 100 other roles.\n\n Traits Epicurean, worldly, debonair, confident, fanciful, insistent about supper.\n\n Lucy Van Pelt\n\n Also known as Fussbudget and once called ''Crab grass on the lawn of life'' by Linus.\n\n First appearance March 3, 1952.\n\n Inspiration Mr. Schulz's daughter Meredith. (''We called our oldest daughter, Meredith, a fussbudget when she was very small.'')\n\n Brothers Linus, Rerun\n\n Unrequited love Schroeder (smitten on May 30, 1953).\n\n Accomplishments Pulling numerous footballs out from under Charlie Brown, beginning on Nov. 16, 1952; ran curbside psychiatric clinic for five cents a visit, beginning on March 27, 1959; master of the short psychiatric session. Famous words spoken to Snoopy on April 25, 1960, ''Happiness is a warm puppy.''\n\n Traits Crabby, vain, loud, bossy, lousy outfielder.\n\n Linus Van Pelt\n\n Also known as Sweet Babboo (by Sally).\n\n First appearance Sept. 19, 1952.\n\n Inspiration ''Linus came from a drawing that I made one day of a face almost like the one he now has,'' Mr. Schulz said. ''I experimented with some wild hair.''\n\n Named for Linus Maurer, a friend of Mr. Schulz's.\n\n Siblings Lucy and Rerun.\n\n Mother Someone who puts strange notes in his lunch box.\n\n Friend Charlie Brown.\n\n Beloved teacher Miss Othmar.\n\n Accomplishments Carried his blanket everywhere, starting on Jan 1, 1955. (Mr. Schulz remembered, ''I did not know then that the term 'security blanket' would later become part of the American language.'') Sat in many a pumpkin patch waiting for the Great Pumpkin with no results, starting on Oct. 28, 1959, when he confused Halloween with Christmas. Knew when to quote St. Paul and other religious figures. Patted birds on head. Traits Philosophical, loyal, self-possessed, literate, adept with blanket on ball field.\n\n Peppermint Patty\n\n Also called ''Sir'' (by Marcie), Patricia Reichardt (her real name).\n\n First appearance Aug. 22, 1966.\n\n Inspiration ''A dish of candy that was sitting around the house,'' Mr. Schulz said.\n\n Unrequited love Charlie Brown (Chuck).\n\n True friend Marcie.\n\n Accomplishments Earned many D-minuses; slept in every possible position on desk in front of Marcie in school and dreamed unhelpful dreams; once entered an ice-skating competition (coached by Snoopy) that turned out to be a roller-skating competition.\n\n Traits Unruly hair, good athlete, tomboy.\n\n Schroeder\n\n First appearance May 30, 1951.\n\n Inspiration ''A toy piano which we had bought for our oldest daughter, Meredith, eventually became the piano which Schroeder uses for his daily practicing,'' Mr. Schulz said. Why Beethoven? ''It is funnier that way. My favorite composer is Brahms -- I could listen to him all day -- but Brahms isn't a funny word, Beethoven is.''\n\n Accomplishments Played Beethoven on toy piano with black keys painted on. Fended off Lucy's amorous overtures.\n\n Traits Focused, serious, handsome, single-minded.\n\n Spike\n\n First appearance Aug. 13, 1975.\n\n First mention Aug. 4, 1975. Named for Mr. Schulz's first dog.\n\n Brother Snoopy.\n\n Residence Lonely desert. Nearest town Needles, Calif.\n\n Friends Cactuses.\n\n Accomplishments Lying on rocks; snuggling with tumbleweeds; brief stint in infantry.\n\n Traits Tired eyes, droopy mustache, bored, blase.\n\n Woodstock\n\n First appearance April 4, 1967.\n\n Named June 22, 1970. ''For some time, a flock of birds had hung around Snoopy's house,'' Mr. Schulz said. ''One of them, particularly scatterbrained and clumsy, finally eclipsed the others.''\n\n Friend Snoopy and various birds.\n\n Accomplishments Birdbath hockey; camping; hiking; marshmallow roasts.\n\n Traits Communicating in tick marks, which Snoopy could understand.\n\n Rerun\n\n First appearance March 26, 1973.\n\n First mention May 23, 1972.\n\n Named May 31, 1972.\n\n Siblings Lucy and Linus.\n\n Accomplishments Softening Lucy's temper and surviving many rides in his mother's dangerous bicycle seat. ''His only fear is being the passenger on one of his mother's bicycle-riding errands,'' Mr. Schulz said. ''Somehow, Rerun is the only witness to her riding into grates and potholes.''\n\n Traits Often mistaken for Linus, but wore overalls and was more skeptical; longed for a dog of his own and occasionally borrowed Snoopy.\n\n Marcie\n\n First appearance June 18, 1968, when she met Peppermint Patty at camp.\n\n Best friend Peppermint Patty, whom she called Sir ''out of admiration and misguided manners,'' Mr. Schulz said.\n\n Accomplishments Sat behind Peppermint Patty at school and shared homework and test answers with her.\n\n True love Charles (Charlie Brown).\n\n Traits Glasses, brainy, naive, not sportive.\n\n Little Red-Haired Girl\n\n First mention Nov. 11, 1963.\n\n First appearance Never. Once seen in silhouette on May 25, 1998.\n\n Inspiration Mr. Schulz's ''real-life love for red-haired Donna Johnson, whom I courted when I was a young man in Saint Paul. She chose someone else as I was about to propose to her, and that broke my heart.''\n\n Accomplishments Winning Charlie Brown's heart.\n\n Traits Never seen, often missed, cute.\n\n Franklin\n\n First appearance July 31, 1968; he met Charlie Brown at the beach. (''They'd never met before because they went to different schools,'' Mr. Schulz said of Franklin, an African-American character, ''but they had fun playing ball so Charlie Brown invited Franklin to visit him.''\n\n Accomplishments Center fielder on baseball team. Quoted the Old Testament and talked about his grandfather.\n\n Traits No anxieties or obsessions.\n\n Sally\n\n First appearance Aug. 23, 1959.\n\n Born May 26, 1959.\n\n Named June 2, 1959.\n\n Brother Charlie Brown.\n\n Unrequited love Linus (Sweet Babboo).\n\n Traits Romantic; flipped-up hair.\n\n Pigpen\n\n First appearance July 13, 1954.\n\n Accomplishments Remained dirty. Mr. Schulz called Pigpen a '' 'human soil bank' who raises a cloud of dust on a perfectly clean street and passes out gumdrops that are invariably black. . . . Whether in a driving rain or falling snow, Pigpen always leaves a cloud of dust behind him as he walks.''\n\n Traits Awe-inspiring dirtiness.\n\n \n\n\n\n"
          },
          "metadata": {}
        }
      ],
      "source": [
        "# Display 2 documents for topic 1\n",
        "get_top_docs(original_texts, topic_distributions, topic_index=1, n=2)"
      ]
    },
    {
      "cell_type": "markdown",
      "metadata": {
        "id": "fl-3dYPvMbra"
      },
      "source": [
        "## Heatmap"
      ]
    },
    {
      "cell_type": "markdown",
      "metadata": {
        "id": "3NlSZBv6Mbrb"
      },
      "source": [
        "We can visualize and compare these topic probability distributions with a heatmap by using the `little_mallet_wrapper.plot_categories_by_topics_heatmap()` function.\n",
        "\n",
        "We have everything we need for the heatmap except for our list of target_labels, the sample of texts that we’d like to visualize and compare with the heatmap. Below we make our list of desired target labels."
      ]
    },
    {
      "cell_type": "code",
      "execution_count": 32,
      "metadata": {
        "id": "d-EC599dMbrc"
      },
      "outputs": [],
      "source": [
        "target_labels = ['1852-Ada-Lovelace', '1885-Ulysses-Grant',\n",
        "                 '1900-Nietzsche', '1931-Ida-B-Wells', '1940-Marcus-Garvey',\n",
        "                 '1941-Virginia-Woolf', '1954-Frida-Kahlo', '1962-Marilyn-Monroe',\n",
        "                 '1963-John-F-Kennedy', '1964-Nella-Larsen', '1972-Jackie-Robinson',\n",
        "                 '1973-Pablo-Picasso', '1984-Ray-A-Kroc','1986-Jorge-Luis-Borges', '1991-Miles-Davis',\n",
        "                 '1992-Marsha-P-Johnson', '1993-Cesar-Chavez']"
      ]
    },
    {
      "cell_type": "markdown",
      "source": [
        "Make a heatmap. This function is taken from Maria Antoniak's [Little Mallet Wrapper](https://github.com/maria-antoniak/little-mallet-wrapper/blob/c89bfbeddb11ddc2a6874476985275a7b2a6c1fd/little_mallet_wrapper/little_mallet_wrapper.py#L171)"
      ],
      "metadata": {
        "id": "YzROpomoc_Rq"
      }
    },
    {
      "cell_type": "code",
      "execution_count": 37,
      "metadata": {
        "id": "soZqRQKbMbrb"
      },
      "outputs": [],
      "source": [
        "import matplotlib.pyplot as plt\n",
        "import seaborn as sns\n",
        "\n",
        "sns.set(style='ticks', font_scale=1.2)\n",
        "def plot_categories_by_topics_heatmap(labels,\n",
        "                                      topic_distributions,\n",
        "                                      topic_keys,\n",
        "                                      output_path=None,\n",
        "                                      target_labels=None,\n",
        "                                      color_map = sns.cm.rocket_r,\n",
        "                                      dim=None):\n",
        "\n",
        "    # Combine the labels and distributions into a list of dictionaries.\n",
        "    dicts_to_plot = []\n",
        "    for _label, _distribution in zip(labels, topic_distributions):\n",
        "        if not target_labels or _label in target_labels:\n",
        "            for _topic_index, _probability in enumerate(_distribution):\n",
        "                dicts_to_plot.append({'Probability': float(_probability),\n",
        "                                      'Category': _label,\n",
        "                                      'Topic': 'Topic ' + str(_topic_index).zfill(2) + ': ' + ' '.join(topic_keys[_topic_index][:5])})\n",
        "\n",
        "    # Create a dataframe, format it for the heatmap function, and normalize the columns.\n",
        "    df_to_plot = pd.DataFrame(dicts_to_plot)\n",
        "    df_wide = df_to_plot.pivot_table(index='Category',\n",
        "                                     columns='Topic',\n",
        "                                     values='Probability')\n",
        "    df_norm_col=(df_wide-df_wide.mean())/df_wide.std()\n",
        "\n",
        "    # Show the final plot.\n",
        "    if dim:\n",
        "        plt.figure(figsize=dim)\n",
        "    sns.set(style='ticks', font_scale=1.2)\n",
        "    ax = sns.heatmap(df_norm_col, cmap=color_map)\n",
        "    ax.xaxis.tick_top()\n",
        "    ax.xaxis.set_label_position('top')\n",
        "    plt.xticks(rotation=30, ha='left')\n",
        "    plt.tight_layout()\n",
        "    plt.show()"
      ]
    },
    {
      "cell_type": "code",
      "execution_count": 38,
      "metadata": {
        "colab": {
          "base_uri": "https://localhost:8080/",
          "height": 893
        },
        "id": "53u3EDI7Mbrc",
        "outputId": "0838d2e5-72d4-4845-958d-97a9a0e43487"
      },
      "outputs": [
        {
          "output_type": "display_data",
          "data": {
            "text/plain": [
              "<Figure size 1200x900 with 2 Axes>"
            ],
            "image/png": "[encoded data removed]"
          },
          "metadata": {}
        }
      ],
      "source": [
        "plot_categories_by_topics_heatmap(titles,\n",
        "                                  topic_distributions,\n",
        "                                  topic_individual_words,\n",
        "                                  target_labels=target_labels,\n",
        "                                  color_map = 'Blues',\n",
        "                                 dim=(12,9))\n",
        "# For all possible color maps, see https://matplotlib.org/stable/tutorials/colors/colormaps.html#miscellaneous"
      ]
    },
    {
      "cell_type": "markdown",
      "source": [
        "The darker squares in this heatmap represent a high probability for the corresponding topic (compared to everyone else in the heatmap) and the lighter squares in the heatmap represent a low probability for the corresponding topic. For example, if you scan across the row of Marilyn Monroe, you can see a dark square for the topic “miss film theater movie theater broadway”. If you scan across the row of Ada Lovelace, an English mathematician who is now recognized as the first computer programmer, according to her [NYT obituary](https://www.nytimes.com/interactive/2018/obituaries/overlooked-ada-lovelace.html), you can see a dark square for “university professor research science also”."
      ],
      "metadata": {
        "id": "MG8zUKTPdWa1"
      }
    },
    {
      "cell_type": "markdown",
      "metadata": {
        "id": "8VIVQxJVMbrd"
      },
      "source": [
        "## Output a CSV File"
      ]
    },
    {
      "cell_type": "code",
      "execution_count": 41,
      "metadata": {
        "id": "39jwHYQ9Mbre"
      },
      "outputs": [],
      "source": [
        "import pandas as pd\n",
        "\n",
        "topic_results = []\n",
        "for title, topic_distribution in zip(titles, topic_distributions):\n",
        "    topic_results.append({'document': title, 'topic_distribution': topic_distribution})\n",
        "\n",
        "df = pd.DataFrame(topic_results)\n",
        "column_names = [f\"Topic {number} {' '.join(topic[:4])}\" for number, topic in enumerate(topic_individual_words)]\n",
        "df[column_names] = pd.DataFrame(df['topic_distribution'].tolist(), index = df.index)\n",
        "df = df.drop('topic_distribution', axis='columns')"
      ]
    },
    {
      "cell_type": "code",
      "execution_count": 42,
      "metadata": {
        "colab": {
          "base_uri": "https://localhost:8080/",
          "height": 810
        },
        "id": "z6S1HWW8Mbrf",
        "outputId": "5002e4cf-b443-4d51-9790-f3abbd6b9482"
      },
      "outputs": [
        {
          "output_type": "execute_result",
          "data": {
            "text/plain": [
              "                  document  Topic 0 years died two received  \\\n",
              "0        1950-A-J-Dempster                         0.262582   \n",
              "1    1965-David-O-Selznick                         0.049112   \n",
              "2          1891-P-T-Barnum                         0.117564   \n",
              "3      2000-Pierre-Trudeau                         0.068996   \n",
              "4       1997-James-Stewart                         0.080031   \n",
              "..                     ...                              ...   \n",
              "374       1998-Bella-Abzug                         0.060029   \n",
              "375       1980-Jesse-Owens                         0.117232   \n",
              "376      1974-Sylvia-Plath                         0.052705   \n",
              "377    1875-Andrew-Johnson                         0.042258   \n",
              "378   1998-Fred-W-Friendly                         0.132003   \n",
              "\n",
              "     Topic 1 wrote said book love  Topic 2 said one house many  \\\n",
              "0                        0.004310                     0.012991   \n",
              "1                        0.133487                     0.091684   \n",
              "2                        0.016717                     0.024951   \n",
              "3                        0.022880                     0.115286   \n",
              "4                        0.153064                     0.252109   \n",
              "..                            ...                          ...   \n",
              "374                      0.024151                     0.254927   \n",
              "375                      0.006429                     0.124288   \n",
              "376                      0.161348                     0.093340   \n",
              "377                      0.000472                     0.019399   \n",
              "378                      0.031443                     0.088908   \n",
              "\n",
              "     Topic 3 president state roosevelt united  \\\n",
              "0                                    0.010039   \n",
              "1                                    0.019102   \n",
              "2                                    0.016387   \n",
              "3                                    0.057415   \n",
              "4                                    0.040209   \n",
              "..                                        ...   \n",
              "374                                  0.186329   \n",
              "375                                  0.030269   \n",
              "376                                  0.013902   \n",
              "377                                  0.311170   \n",
              "378                                  0.058580   \n",
              "\n",
              "     Topic 4 world million baseball game  Topic 5 miss film art theater  \\\n",
              "0                               0.003682                       0.003003   \n",
              "1                               0.055976                       0.287243   \n",
              "2                               0.023469                       0.010183   \n",
              "3                               0.007272                       0.004326   \n",
              "4                               0.052336                       0.131763   \n",
              "..                                   ...                            ...   \n",
              "374                             0.014617                       0.000346   \n",
              "375                             0.226807                       0.004307   \n",
              "376                             0.048129                       0.042239   \n",
              "377                             0.002329                       0.000971   \n",
              "378                             0.184327                       0.036673   \n",
              "\n",
              "     Topic 6 one would man life  Topic 7 made general grant gen  \\\n",
              "0                      0.046518                        0.029415   \n",
              "1                      0.088801                        0.030809   \n",
              "2                      0.210986                        0.137984   \n",
              "3                      0.126067                        0.060471   \n",
              "4                      0.085876                        0.026942   \n",
              "..                          ...                             ...   \n",
              "374                    0.066865                        0.039887   \n",
              "375                    0.082982                        0.008611   \n",
              "376                    0.240359                        0.065866   \n",
              "377                    0.100109                        0.270282   \n",
              "378                    0.163790                        0.032607   \n",
              "\n",
              "     Topic 8 year first time mrs  Topic 9 black justice court louis  \\\n",
              "0                       0.075920                           0.004201   \n",
              "1                       0.094096                           0.041099   \n",
              "2                       0.109206                           0.085215   \n",
              "3                       0.137018                           0.036688   \n",
              "4                       0.048060                           0.011359   \n",
              "..                           ...                                ...   \n",
              "374                     0.152030                           0.110641   \n",
              "375                     0.144086                           0.082768   \n",
              "376                     0.121596                           0.023926   \n",
              "377                     0.126442                           0.021003   \n",
              "378                     0.065140                           0.025090   \n",
              "\n",
              "     Topic 10 work world published university  \\\n",
              "0                                    0.358070   \n",
              "1                                    0.015067   \n",
              "2                                    0.021368   \n",
              "3                                    0.052471   \n",
              "4                                    0.030856   \n",
              "..                                        ...   \n",
              "374                                  0.014953   \n",
              "375                                  0.075523   \n",
              "376                                  0.100365   \n",
              "377                                  0.032180   \n",
              "378                                  0.047186   \n",
              "\n",
              "     Topic 11 war united general army  Topic 12 music band jazz new  \\\n",
              "0                            0.049011                      0.001573   \n",
              "1                            0.004721                      0.003755   \n",
              "2                            0.003027                      0.005257   \n",
              "3                            0.038214                      0.015125   \n",
              "4                            0.027804                      0.015560   \n",
              "..                                ...                           ...   \n",
              "374                          0.007006                      0.000857   \n",
              "375                          0.030893                      0.002165   \n",
              "376                          0.004818                      0.000384   \n",
              "377                          0.001519                      0.000172   \n",
              "378                          0.000332                      0.003864   \n",
              "\n",
              "     Topic 13 new york times years  Topic 14 soviet party communist mao  \n",
              "0                         0.112804                             0.025882  \n",
              "1                         0.083800                             0.001248  \n",
              "2                         0.216258                             0.001428  \n",
              "3                         0.015119                             0.242653  \n",
              "4                         0.034145                             0.009885  \n",
              "..                             ...                                  ...  \n",
              "374                       0.031937                             0.035425  \n",
              "375                       0.045105                             0.018534  \n",
              "376                       0.030423                             0.000599  \n",
              "377                       0.050880                             0.020812  \n",
              "378                       0.113384                             0.016673  \n",
              "\n",
              "[379 rows x 16 columns]"
            ],
            "text/html": [
              "\n",
              "  <div id=\"df-2feab635-233f-429d-9f81-a1a13c4cd833\" class=\"colab-df-container\">\n",
              "    <div>\n",
              "<style scoped>\n",
              "    .dataframe tbody tr th:only-of-type {\n",
              "        vertical-align: middle;\n",
              "    }\n",
              "\n",
              "    .dataframe tbody tr th {\n",
              "        vertical-align: top;\n",
              "    }\n",
              "\n",
              "    .dataframe thead th {\n",
              "        text-align: right;\n",
              "    }\n",
              "</style>\n",
              "<table border=\"1\" class=\"dataframe\">\n",
              "  <thead>\n",
              "    <tr style=\"text-align: right;\">\n",
              "      <th></th>\n",
              "      <th>document</th>\n",
              "      <th>Topic 0 years died two received</th>\n",
              "      <th>Topic 1 wrote said book love</th>\n",
              "      <th>Topic 2 said one house many</th>\n",
              "      <th>Topic 3 president state roosevelt united</th>\n",
              "      <th>Topic 4 world million baseball game</th>\n",
              "      <th>Topic 5 miss film art theater</th>\n",
              "      <th>Topic 6 one would man life</th>\n",
              "      <th>Topic 7 made general grant gen</th>\n",
              "      <th>Topic 8 year first time mrs</th>\n",
              "      <th>Topic 9 black justice court louis</th>\n",
              "      <th>Topic 10 work world published university</th>\n",
              "      <th>Topic 11 war united general army</th>\n",
              "      <th>Topic 12 music band jazz new</th>\n",
              "      <th>Topic 13 new york times years</th>\n",
              "      <th>Topic 14 soviet party communist mao</th>\n",
              "    </tr>\n",
              "  </thead>\n",
              "  <tbody>\n",
              "    <tr>\n",
              "      <th>0</th>\n",
              "      <td>1950-A-J-Dempster</td>\n",
              "      <td>0.262582</td>\n",
              "      <td>0.004310</td>\n",
              "      <td>0.012991</td>\n",
              "      <td>0.010039</td>\n",
              "      <td>0.003682</td>\n",
              "      <td>0.003003</td>\n",
              "      <td>0.046518</td>\n",
              "      <td>0.029415</td>\n",
              "      <td>0.075920</td>\n",
              "      <td>0.004201</td>\n",
              "      <td>0.358070</td>\n",
              "      <td>0.049011</td>\n",
              "      <td>0.001573</td>\n",
              "      <td>0.112804</td>\n",
              "      <td>0.025882</td>\n",
              "    </tr>\n",
              "    <tr>\n",
              "      <th>1</th>\n",
              "      <td>1965-David-O-Selznick</td>\n",
              "      <td>0.049112</td>\n",
              "      <td>0.133487</td>\n",
              "      <td>0.091684</td>\n",
              "      <td>0.019102</td>\n",
              "      <td>0.055976</td>\n",
              "      <td>0.287243</td>\n",
              "      <td>0.088801</td>\n",
              "      <td>0.030809</td>\n",
              "      <td>0.094096</td>\n",
              "      <td>0.041099</td>\n",
              "      <td>0.015067</td>\n",
              "      <td>0.004721</td>\n",
              "      <td>0.003755</td>\n",
              "      <td>0.083800</td>\n",
              "      <td>0.001248</td>\n",
              "    </tr>\n",
              "    <tr>\n",
              "      <th>2</th>\n",
              "      <td>1891-P-T-Barnum</td>\n",
              "      <td>0.117564</td>\n",
              "      <td>0.016717</td>\n",
              "      <td>0.024951</td>\n",
              "      <td>0.016387</td>\n",
              "      <td>0.023469</td>\n",
              "      <td>0.010183</td>\n",
              "      <td>0.210986</td>\n",
              "      <td>0.137984</td>\n",
              "      <td>0.109206</td>\n",
              "      <td>0.085215</td>\n",
              "      <td>0.021368</td>\n",
              "      <td>0.003027</td>\n",
              "      <td>0.005257</td>\n",
              "      <td>0.216258</td>\n",
              "      <td>0.001428</td>\n",
              "    </tr>\n",
              "    <tr>\n",
              "      <th>3</th>\n",
              "      <td>2000-Pierre-Trudeau</td>\n",
              "      <td>0.068996</td>\n",
              "      <td>0.022880</td>\n",
              "      <td>0.115286</td>\n",
              "      <td>0.057415</td>\n",
              "      <td>0.007272</td>\n",
              "      <td>0.004326</td>\n",
              "      <td>0.126067</td>\n",
              "      <td>0.060471</td>\n",
              "      <td>0.137018</td>\n",
              "      <td>0.036688</td>\n",
              "      <td>0.052471</td>\n",
              "      <td>0.038214</td>\n",
              "      <td>0.015125</td>\n",
              "      <td>0.015119</td>\n",
              "      <td>0.242653</td>\n",
              "    </tr>\n",
              "    <tr>\n",
              "      <th>4</th>\n",
              "      <td>1997-James-Stewart</td>\n",
              "      <td>0.080031</td>\n",
              "      <td>0.153064</td>\n",
              "      <td>0.252109</td>\n",
              "      <td>0.040209</td>\n",
              "      <td>0.052336</td>\n",
              "      <td>0.131763</td>\n",
              "      <td>0.085876</td>\n",
              "      <td>0.026942</td>\n",
              "      <td>0.048060</td>\n",
              "      <td>0.011359</td>\n",
              "      <td>0.030856</td>\n",
              "      <td>0.027804</td>\n",
              "      <td>0.015560</td>\n",
              "      <td>0.034145</td>\n",
              "      <td>0.009885</td>\n",
              "    </tr>\n",
              "    <tr>\n",
              "      <th>...</th>\n",
              "      <td>...</td>\n",
              "      <td>...</td>\n",
              "      <td>...</td>\n",
              "      <td>...</td>\n",
              "      <td>...</td>\n",
              "      <td>...</td>\n",
              "      <td>...</td>\n",
              "      <td>...</td>\n",
              "      <td>...</td>\n",
              "      <td>...</td>\n",
              "      <td>...</td>\n",
              "      <td>...</td>\n",
              "      <td>...</td>\n",
              "      <td>...</td>\n",
              "      <td>...</td>\n",
              "      <td>...</td>\n",
              "    </tr>\n",
              "    <tr>\n",
              "      <th>374</th>\n",
              "      <td>1998-Bella-Abzug</td>\n",
              "      <td>0.060029</td>\n",
              "      <td>0.024151</td>\n",
              "      <td>0.254927</td>\n",
              "      <td>0.186329</td>\n",
              "      <td>0.014617</td>\n",
              "      <td>0.000346</td>\n",
              "      <td>0.066865</td>\n",
              "      <td>0.039887</td>\n",
              "      <td>0.152030</td>\n",
              "      <td>0.110641</td>\n",
              "      <td>0.014953</td>\n",
              "      <td>0.007006</td>\n",
              "      <td>0.000857</td>\n",
              "      <td>0.031937</td>\n",
              "      <td>0.035425</td>\n",
              "    </tr>\n",
              "    <tr>\n",
              "      <th>375</th>\n",
              "      <td>1980-Jesse-Owens</td>\n",
              "      <td>0.117232</td>\n",
              "      <td>0.006429</td>\n",
              "      <td>0.124288</td>\n",
              "      <td>0.030269</td>\n",
              "      <td>0.226807</td>\n",
              "      <td>0.004307</td>\n",
              "      <td>0.082982</td>\n",
              "      <td>0.008611</td>\n",
              "      <td>0.144086</td>\n",
              "      <td>0.082768</td>\n",
              "      <td>0.075523</td>\n",
              "      <td>0.030893</td>\n",
              "      <td>0.002165</td>\n",
              "      <td>0.045105</td>\n",
              "      <td>0.018534</td>\n",
              "    </tr>\n",
              "    <tr>\n",
              "      <th>376</th>\n",
              "      <td>1974-Sylvia-Plath</td>\n",
              "      <td>0.052705</td>\n",
              "      <td>0.161348</td>\n",
              "      <td>0.093340</td>\n",
              "      <td>0.013902</td>\n",
              "      <td>0.048129</td>\n",
              "      <td>0.042239</td>\n",
              "      <td>0.240359</td>\n",
              "      <td>0.065866</td>\n",
              "      <td>0.121596</td>\n",
              "      <td>0.023926</td>\n",
              "      <td>0.100365</td>\n",
              "      <td>0.004818</td>\n",
              "      <td>0.000384</td>\n",
              "      <td>0.030423</td>\n",
              "      <td>0.000599</td>\n",
              "    </tr>\n",
              "    <tr>\n",
              "      <th>377</th>\n",
              "      <td>1875-Andrew-Johnson</td>\n",
              "      <td>0.042258</td>\n",
              "      <td>0.000472</td>\n",
              "      <td>0.019399</td>\n",
              "      <td>0.311170</td>\n",
              "      <td>0.002329</td>\n",
              "      <td>0.000971</td>\n",
              "      <td>0.100109</td>\n",
              "      <td>0.270282</td>\n",
              "      <td>0.126442</td>\n",
              "      <td>0.021003</td>\n",
              "      <td>0.032180</td>\n",
              "      <td>0.001519</td>\n",
              "      <td>0.000172</td>\n",
              "      <td>0.050880</td>\n",
              "      <td>0.020812</td>\n",
              "    </tr>\n",
              "    <tr>\n",
              "      <th>378</th>\n",
              "      <td>1998-Fred-W-Friendly</td>\n",
              "      <td>0.132003</td>\n",
              "      <td>0.031443</td>\n",
              "      <td>0.088908</td>\n",
              "      <td>0.058580</td>\n",
              "      <td>0.184327</td>\n",
              "      <td>0.036673</td>\n",
              "      <td>0.163790</td>\n",
              "      <td>0.032607</td>\n",
              "      <td>0.065140</td>\n",
              "      <td>0.025090</td>\n",
              "      <td>0.047186</td>\n",
              "      <td>0.000332</td>\n",
              "      <td>0.003864</td>\n",
              "      <td>0.113384</td>\n",
              "      <td>0.016673</td>\n",
              "    </tr>\n",
              "  </tbody>\n",
              "</table>\n",
              "<p>379 rows × 16 columns</p>\n",
              "</div>\n",
              "    <div class=\"colab-df-buttons\">\n",
              "\n",
              "  <div class=\"colab-df-container\">\n",
              "    <button class=\"colab-df-convert\" onclick=\"convertToInteractive('df-2feab635-233f-429d-9f81-a1a13c4cd833')\"\n",
              "            title=\"Convert this dataframe to an interactive table.\"\n",
              "            style=\"display:none;\">\n",
              "\n",
              "  <svg xmlns=\"http://www.w3.org/2000/svg\" height=\"24px\" viewBox=\"0 -960 960 960\">\n",
              "    <path d=\"M120-120v-720h720v720H120Zm60-500h600v-160H180v160Zm220 220h160v-160H400v160Zm0 220h160v-160H400v160ZM180-400h160v-160H180v160Zm440 0h160v-160H620v160ZM180-180h160v-160H180v160Zm440 0h160v-160H620v160Z\"/>\n",
              "  </svg>\n",
              "    </button>\n",
              "\n",
              "  <style>\n",
              "    .colab-df-container {\n",
              "      display:flex;\n",
              "      gap: 12px;\n",
              "    }\n",
              "\n",
              "    .colab-df-convert {\n",
              "      background-color: #E8F0FE;\n",
              "      border: none;\n",
              "      border-radius: 50%;\n",
              "      cursor: pointer;\n",
              "      display: none;\n",
              "      fill: #1967D2;\n",
              "      height: 32px;\n",
              "      padding: 0 0 0 0;\n",
              "      width: 32px;\n",
              "    }\n",
              "\n",
              "    .colab-df-convert:hover {\n",
              "      background-color: #E2EBFA;\n",
              "      box-shadow: 0px 1px 2px rgba(60, 64, 67, 0.3), 0px 1px 3px 1px rgba(60, 64, 67, 0.15);\n",
              "      fill: #174EA6;\n",
              "    }\n",
              "\n",
              "    .colab-df-buttons div {\n",
              "      margin-bottom: 4px;\n",
              "    }\n",
              "\n",
              "    [theme=dark] .colab-df-convert {\n",
              "      background-color: #3B4455;\n",
              "      fill: #D2E3FC;\n",
              "    }\n",
              "\n",
              "    [theme=dark] .colab-df-convert:hover {\n",
              "      background-color: #434B5C;\n",
              "      box-shadow: 0px 1px 3px 1px rgba(0, 0, 0, 0.15);\n",
              "      filter: drop-shadow(0px 1px 2px rgba(0, 0, 0, 0.3));\n",
              "      fill: #FFFFFF;\n",
              "    }\n",
              "  </style>\n",
              "\n",
              "    <script>\n",
              "      const buttonEl =\n",
              "        document.querySelector('#df-2feab635-233f-429d-9f81-a1a13c4cd833 button.colab-df-convert');\n",
              "      buttonEl.style.display =\n",
              "        google.colab.kernel.accessAllowed ? 'block' : 'none';\n",
              "\n",
              "      async function convertToInteractive(key) {\n",
              "        const element = document.querySelector('#df-2feab635-233f-429d-9f81-a1a13c4cd833');\n",
              "        const dataTable =\n",
              "          await google.colab.kernel.invokeFunction('convertToInteractive',\n",
              "                                                    [key], {});\n",
              "        if (!dataTable) return;\n",
              "\n",
              "        const docLinkHtml = 'Like what you see? Visit the ' +\n",
              "          '<a target=\"_blank\" href=https://colab.research.google.com/notebooks/data_table.ipynb>data table notebook</a>'\n",
              "          + ' to learn more about interactive tables.';\n",
              "        element.innerHTML = '';\n",
              "        dataTable['output_type'] = 'display_data';\n",
              "        await google.colab.output.renderOutput(dataTable, element);\n",
              "        const docLink = document.createElement('div');\n",
              "        docLink.innerHTML = docLinkHtml;\n",
              "        element.appendChild(docLink);\n",
              "      }\n",
              "    </script>\n",
              "  </div>\n",
              "\n",
              "\n",
              "<div id=\"df-4f91a3db-3cc4-4db4-90a8-520d37bf61e4\">\n",
              "  <button class=\"colab-df-quickchart\" onclick=\"quickchart('df-4f91a3db-3cc4-4db4-90a8-520d37bf61e4')\"\n",
              "            title=\"Suggest charts\"\n",
              "            style=\"display:none;\">\n",
              "\n",
              "<svg xmlns=\"http://www.w3.org/2000/svg\" height=\"24px\"viewBox=\"0 0 24 24\"\n",
              "     width=\"24px\">\n",
              "    <g>\n",
              "        <path d=\"M19 3H5c-1.1 0-2 .9-2 2v14c0 1.1.9 2 2 2h14c1.1 0 2-.9 2-2V5c0-1.1-.9-2-2-2zM9 17H7v-7h2v7zm4 0h-2V7h2v10zm4 0h-2v-4h2v4z\"/>\n",
              "    </g>\n",
              "</svg>\n",
              "  </button>\n",
              "\n",
              "<style>\n",
              "  .colab-df-quickchart {\n",
              "      --bg-color: #E8F0FE;\n",
              "      --fill-color: #1967D2;\n",
              "      --hover-bg-color: #E2EBFA;\n",
              "      --hover-fill-color: #174EA6;\n",
              "      --disabled-fill-color: #AAA;\n",
              "      --disabled-bg-color: #DDD;\n",
              "  }\n",
              "\n",
              "  [theme=dark] .colab-df-quickchart {\n",
              "      --bg-color: #3B4455;\n",
              "      --fill-color: #D2E3FC;\n",
              "      --hover-bg-color: #434B5C;\n",
              "      --hover-fill-color: #FFFFFF;\n",
              "      --disabled-bg-color: #3B4455;\n",
              "      --disabled-fill-color: #666;\n",
              "  }\n",
              "\n",
              "  .colab-df-quickchart {\n",
              "    background-color: var(--bg-color);\n",
              "    border: none;\n",
              "    border-radius: 50%;\n",
              "    cursor: pointer;\n",
              "    display: none;\n",
              "    fill: var(--fill-color);\n",
              "    height: 32px;\n",
              "    padding: 0;\n",
              "    width: 32px;\n",
              "  }\n",
              "\n",
              "  .colab-df-quickchart:hover {\n",
              "    background-color: var(--hover-bg-color);\n",
              "    box-shadow: 0 1px 2px rgba(60, 64, 67, 0.3), 0 1px 3px 1px rgba(60, 64, 67, 0.15);\n",
              "    fill: var(--button-hover-fill-color);\n",
              "  }\n",
              "\n",
              "  .colab-df-quickchart-complete:disabled,\n",
              "  .colab-df-quickchart-complete:disabled:hover {\n",
              "    background-color: var(--disabled-bg-color);\n",
              "    fill: var(--disabled-fill-color);\n",
              "    box-shadow: none;\n",
              "  }\n",
              "\n",
              "  .colab-df-spinner {\n",
              "    border: 2px solid var(--fill-color);\n",
              "    border-color: transparent;\n",
              "    border-bottom-color: var(--fill-color);\n",
              "    animation:\n",
              "      spin 1s steps(1) infinite;\n",
              "  }\n",
              "\n",
              "  @keyframes spin {\n",
              "    0% {\n",
              "      border-color: transparent;\n",
              "      border-bottom-color: var(--fill-color);\n",
              "      border-left-color: var(--fill-color);\n",
              "    }\n",
              "    20% {\n",
              "      border-color: transparent;\n",
              "      border-left-color: var(--fill-color);\n",
              "      border-top-color: var(--fill-color);\n",
              "    }\n",
              "    30% {\n",
              "      border-color: transparent;\n",
              "      border-left-color: var(--fill-color);\n",
              "      border-top-color: var(--fill-color);\n",
              "      border-right-color: var(--fill-color);\n",
              "    }\n",
              "    40% {\n",
              "      border-color: transparent;\n",
              "      border-right-color: var(--fill-color);\n",
              "      border-top-color: var(--fill-color);\n",
              "    }\n",
              "    60% {\n",
              "      border-color: transparent;\n",
              "      border-right-color: var(--fill-color);\n",
              "    }\n",
              "    80% {\n",
              "      border-color: transparent;\n",
              "      border-right-color: var(--fill-color);\n",
              "      border-bottom-color: var(--fill-color);\n",
              "    }\n",
              "    90% {\n",
              "      border-color: transparent;\n",
              "      border-bottom-color: var(--fill-color);\n",
              "    }\n",
              "  }\n",
              "</style>\n",
              "\n",
              "  <script>\n",
              "    async function quickchart(key) {\n",
              "      const quickchartButtonEl =\n",
              "        document.querySelector('#' + key + ' button');\n",
              "      quickchartButtonEl.disabled = true;  // To prevent multiple clicks.\n",
              "      quickchartButtonEl.classList.add('colab-df-spinner');\n",
              "      try {\n",
              "        const charts = await google.colab.kernel.invokeFunction(\n",
              "            'suggestCharts', [key], {});\n",
              "      } catch (error) {\n",
              "        console.error('Error during call to suggestCharts:', error);\n",
              "      }\n",
              "      quickchartButtonEl.classList.remove('colab-df-spinner');\n",
              "      quickchartButtonEl.classList.add('colab-df-quickchart-complete');\n",
              "    }\n",
              "    (() => {\n",
              "      let quickchartButtonEl =\n",
              "        document.querySelector('#df-4f91a3db-3cc4-4db4-90a8-520d37bf61e4 button');\n",
              "      quickchartButtonEl.style.display =\n",
              "        google.colab.kernel.accessAllowed ? 'block' : 'none';\n",
              "    })();\n",
              "  </script>\n",
              "</div>\n",
              "    </div>\n",
              "  </div>\n"
            ],
            "application/vnd.google.colaboratory.intrinsic+json": {
              "type": "dataframe",
              "variable_name": "df",
              "summary": "{\n  \"name\": \"df\",\n  \"rows\": 379,\n  \"fields\": [\n    {\n      \"column\": \"document\",\n      \"properties\": {\n        \"dtype\": \"string\",\n        \"num_unique_values\": 379,\n        \"samples\": [\n          \"1974-Earl-Warren\",\n          \"1933-Ring-Lardner\",\n          \"1986-Jorge-Luis-Borges\"\n        ],\n        \"semantic_type\": \"\",\n        \"description\": \"\"\n      }\n    },\n    {\n      \"column\": \"Topic 0 years died two received\",\n      \"properties\": {\n        \"dtype\": \"float32\",\n        \"num_unique_values\": 379,\n        \"samples\": [\n          0.03241317346692085,\n          0.0930127501487732,\n          0.08899006992578506\n        ],\n        \"semantic_type\": \"\",\n        \"description\": \"\"\n      }\n    },\n    {\n      \"column\": \"Topic 1 wrote said book love\",\n      \"properties\": {\n        \"dtype\": \"float32\",\n        \"num_unique_values\": 378,\n        \"samples\": [\n          0.001918087131343782,\n          0.08768100291490555,\n          0.2558059096336365\n        ],\n        \"semantic_type\": \"\",\n        \"description\": \"\"\n      }\n    },\n    {\n      \"column\": \"Topic 2 said one house many\",\n      \"properties\": {\n        \"dtype\": \"float32\",\n        \"num_unique_values\": 378,\n        \"samples\": [\n          0.1971169263124466,\n          0.10400783270597458,\n          0.06876195222139359\n        ],\n        \"semantic_type\": \"\",\n        \"description\": \"\"\n      }\n    },\n    {\n      \"column\": \"Topic 3 president state roosevelt united\",\n      \"properties\": {\n        \"dtype\": \"float32\",\n        \"num_unique_values\": 379,\n        \"samples\": [\n          0.1944105625152588,\n          0.0009506758651696146,\n          0.01861102133989334\n        ],\n        \"semantic_type\": \"\",\n        \"description\": \"\"\n      }\n    },\n    {\n      \"column\": \"Topic 4 world million baseball game\",\n      \"properties\": {\n        \"dtype\": \"float32\",\n        \"num_unique_values\": 377,\n        \"samples\": [\n          0.010430385358631611,\n          0.08299488574266434,\n          0.005668822675943375\n        ],\n        \"semantic_type\": \"\",\n        \"description\": \"\"\n      }\n    },\n    {\n      \"column\": \"Topic 5 miss film art theater\",\n      \"properties\": {\n        \"dtype\": \"float32\",\n        \"num_unique_values\": 377,\n        \"samples\": [\n          0.00014595981338061392,\n          0.1826907992362976,\n          0.11020845174789429\n        ],\n        \"semantic_type\": \"\",\n        \"description\": \"\"\n      }\n    },\n    {\n      \"column\": \"Topic 6 one would man life\",\n      \"properties\": {\n        \"dtype\": \"float32\",\n        \"num_unique_values\": 379,\n        \"samples\": [\n          0.12812590599060059,\n          0.11581173539161682,\n          0.19451358914375305\n        ],\n        \"semantic_type\": \"\",\n        \"description\": \"\"\n      }\n    },\n    {\n      \"column\": \"Topic 7 made general grant gen\",\n      \"properties\": {\n        \"dtype\": \"float32\",\n        \"num_unique_values\": 378,\n        \"samples\": [\n          0.06806410849094391,\n          0.0052863797172904015,\n          0.013330817222595215\n        ],\n        \"semantic_type\": \"\",\n        \"description\": \"\"\n      }\n    },\n    {\n      \"column\": \"Topic 8 year first time mrs\",\n      \"properties\": {\n        \"dtype\": \"float32\",\n        \"num_unique_values\": 379,\n        \"samples\": [\n          0.07772859185934067,\n          0.16245980560779572,\n          0.12596124410629272\n        ],\n        \"semantic_type\": \"\",\n        \"description\": \"\"\n      }\n    },\n    {\n      \"column\": \"Topic 9 black justice court louis\",\n      \"properties\": {\n        \"dtype\": \"float32\",\n        \"num_unique_values\": 379,\n        \"samples\": [\n          0.1875772774219513,\n          0.01827222667634487,\n          0.013471340760588646\n        ],\n        \"semantic_type\": \"\",\n        \"description\": \"\"\n      }\n    },\n    {\n      \"column\": \"Topic 10 work world published university\",\n      \"properties\": {\n        \"dtype\": \"float32\",\n        \"num_unique_values\": 379,\n        \"samples\": [\n          0.0504387766122818,\n          0.01615321822464466,\n          0.1595308631658554\n        ],\n        \"semantic_type\": \"\",\n        \"description\": \"\"\n      }\n    },\n    {\n      \"column\": \"Topic 11 war united general army\",\n      \"properties\": {\n        \"dtype\": \"float32\",\n        \"num_unique_values\": 378,\n        \"samples\": [\n          0.00032810261473059654,\n          0.005070336628705263,\n          0.06904493272304535\n        ],\n        \"semantic_type\": \"\",\n        \"description\": \"\"\n      }\n    },\n    {\n      \"column\": \"Topic 12 music band jazz new\",\n      \"properties\": {\n        \"dtype\": \"float32\",\n        \"num_unique_values\": 375,\n        \"samples\": [\n          0.0010582782560959458,\n          0.0011491531040519476,\n          0.0050783841870725155\n        ],\n        \"semantic_type\": \"\",\n        \"description\": \"\"\n      }\n    },\n    {\n      \"column\": \"Topic 13 new york times years\",\n      \"properties\": {\n        \"dtype\": \"float32\",\n        \"num_unique_values\": 379,\n        \"samples\": [\n          0.010894068516790867,\n          0.186831995844841,\n          0.03364742547273636\n        ],\n        \"semantic_type\": \"\",\n        \"description\": \"\"\n      }\n    },\n    {\n      \"column\": \"Topic 14 soviet party communist mao\",\n      \"properties\": {\n        \"dtype\": \"float32\",\n        \"num_unique_values\": 375,\n        \"samples\": [\n          0.24357371032238007,\n          0.006069061812013388,\n          0.0009366375743411481\n        ],\n        \"semantic_type\": \"\",\n        \"description\": \"\"\n      }\n    }\n  ]\n}"
            }
          },
          "metadata": {},
          "execution_count": 42
        }
      ],
      "source": [
        "df"
      ]
    },
    {
      "cell_type": "code",
      "execution_count": 43,
      "metadata": {
        "colab": {
          "base_uri": "https://localhost:8080/",
          "height": 490
        },
        "id": "7NmBrZZTMbrf",
        "outputId": "4d2ebe4b-9702-45a0-cf76-1099fa2300df"
      },
      "outputs": [
        {
          "output_type": "execute_result",
          "data": {
            "text/plain": [
              "                 document  Topic 0 years died two received  \\\n",
              "217      1990-Greta-Garbo                         0.063898   \n",
              "347  1959-Ethel-Barrymore                         0.134818   \n",
              "10      1990-Rex-Harrison                         0.034448   \n",
              "367    1982-Lee-Strasberg                         0.112691   \n",
              "122    1994-Jessica-Tandy                         0.050420   \n",
              "131     1969-Judy-Garland                         0.069567   \n",
              "\n",
              "     Topic 1 wrote said book love  Topic 2 said one house many  \\\n",
              "217                      0.080357                     0.124056   \n",
              "347                      0.094792                     0.058961   \n",
              "10                       0.189054                     0.070984   \n",
              "367                      0.096943                     0.076245   \n",
              "122                      0.168494                     0.097930   \n",
              "131                      0.134748                     0.064667   \n",
              "\n",
              "     Topic 3 president state roosevelt united  \\\n",
              "217                                  0.015635   \n",
              "347                                  0.003186   \n",
              "10                                   0.002286   \n",
              "367                                  0.011974   \n",
              "122                                  0.001781   \n",
              "131                                  0.001271   \n",
              "\n",
              "     Topic 4 world million baseball game  Topic 5 miss film art theater  \\\n",
              "217                             0.043800                       0.359681   \n",
              "347                             0.041832                       0.339919   \n",
              "10                              0.035518                       0.310136   \n",
              "367                             0.024174                       0.301229   \n",
              "122                             0.067354                       0.300918   \n",
              "131                             0.034573                       0.299925   \n",
              "\n",
              "     Topic 6 one would man life  Topic 7 made general grant gen  \\\n",
              "217                    0.092201                        0.044070   \n",
              "347                    0.113819                        0.037597   \n",
              "10                     0.083954                        0.078726   \n",
              "367                    0.104996                        0.034672   \n",
              "122                    0.129907                        0.032172   \n",
              "131                    0.119330                        0.040796   \n",
              "\n",
              "     Topic 8 year first time mrs  Topic 9 black justice court louis  \\\n",
              "217                     0.075005                           0.010819   \n",
              "347                     0.125583                           0.005538   \n",
              "10                      0.069307                           0.000957   \n",
              "367                     0.087135                           0.014214   \n",
              "122                     0.082011                           0.007690   \n",
              "131                     0.137880                           0.002756   \n",
              "\n",
              "     Topic 10 work world published university  \\\n",
              "217                                  0.040012   \n",
              "347                                  0.001323   \n",
              "10                                   0.033515   \n",
              "367                                  0.071673   \n",
              "122                                  0.025022   \n",
              "131                                  0.026044   \n",
              "\n",
              "     Topic 11 war united general army  Topic 12 music band jazz new  \\\n",
              "217                          0.018838                      0.003627   \n",
              "347                          0.000431                      0.009708   \n",
              "10                           0.011160                      0.033704   \n",
              "367                          0.001528                      0.040537   \n",
              "122                          0.001553                      0.010677   \n",
              "131                          0.000272                      0.036530   \n",
              "\n",
              "     Topic 13 new york times years  Topic 14 soviet party communist mao  \n",
              "217                       0.009814                             0.018186  \n",
              "347                       0.032002                             0.000491  \n",
              "10                        0.037690                             0.008561  \n",
              "367                       0.019288                             0.002703  \n",
              "122                       0.022482                             0.001587  \n",
              "131                       0.031331                             0.000310  "
            ],
            "text/html": [
              "\n",
              "  <div id=\"df-4e508951-b1ab-40ce-8282-eef127531408\" class=\"colab-df-container\">\n",
              "    <div>\n",
              "<style scoped>\n",
              "    .dataframe tbody tr th:only-of-type {\n",
              "        vertical-align: middle;\n",
              "    }\n",
              "\n",
              "    .dataframe tbody tr th {\n",
              "        vertical-align: top;\n",
              "    }\n",
              "\n",
              "    .dataframe thead th {\n",
              "        text-align: right;\n",
              "    }\n",
              "</style>\n",
              "<table border=\"1\" class=\"dataframe\">\n",
              "  <thead>\n",
              "    <tr style=\"text-align: right;\">\n",
              "      <th></th>\n",
              "      <th>document</th>\n",
              "      <th>Topic 0 years died two received</th>\n",
              "      <th>Topic 1 wrote said book love</th>\n",
              "      <th>Topic 2 said one house many</th>\n",
              "      <th>Topic 3 president state roosevelt united</th>\n",
              "      <th>Topic 4 world million baseball game</th>\n",
              "      <th>Topic 5 miss film art theater</th>\n",
              "      <th>Topic 6 one would man life</th>\n",
              "      <th>Topic 7 made general grant gen</th>\n",
              "      <th>Topic 8 year first time mrs</th>\n",
              "      <th>Topic 9 black justice court louis</th>\n",
              "      <th>Topic 10 work world published university</th>\n",
              "      <th>Topic 11 war united general army</th>\n",
              "      <th>Topic 12 music band jazz new</th>\n",
              "      <th>Topic 13 new york times years</th>\n",
              "      <th>Topic 14 soviet party communist mao</th>\n",
              "    </tr>\n",
              "  </thead>\n",
              "  <tbody>\n",
              "    <tr>\n",
              "      <th>217</th>\n",
              "      <td>1990-Greta-Garbo</td>\n",
              "      <td>0.063898</td>\n",
              "      <td>0.080357</td>\n",
              "      <td>0.124056</td>\n",
              "      <td>0.015635</td>\n",
              "      <td>0.043800</td>\n",
              "      <td>0.359681</td>\n",
              "      <td>0.092201</td>\n",
              "      <td>0.044070</td>\n",
              "      <td>0.075005</td>\n",
              "      <td>0.010819</td>\n",
              "      <td>0.040012</td>\n",
              "      <td>0.018838</td>\n",
              "      <td>0.003627</td>\n",
              "      <td>0.009814</td>\n",
              "      <td>0.018186</td>\n",
              "    </tr>\n",
              "    <tr>\n",
              "      <th>347</th>\n",
              "      <td>1959-Ethel-Barrymore</td>\n",
              "      <td>0.134818</td>\n",
              "      <td>0.094792</td>\n",
              "      <td>0.058961</td>\n",
              "      <td>0.003186</td>\n",
              "      <td>0.041832</td>\n",
              "      <td>0.339919</td>\n",
              "      <td>0.113819</td>\n",
              "      <td>0.037597</td>\n",
              "      <td>0.125583</td>\n",
              "      <td>0.005538</td>\n",
              "      <td>0.001323</td>\n",
              "      <td>0.000431</td>\n",
              "      <td>0.009708</td>\n",
              "      <td>0.032002</td>\n",
              "      <td>0.000491</td>\n",
              "    </tr>\n",
              "    <tr>\n",
              "      <th>10</th>\n",
              "      <td>1990-Rex-Harrison</td>\n",
              "      <td>0.034448</td>\n",
              "      <td>0.189054</td>\n",
              "      <td>0.070984</td>\n",
              "      <td>0.002286</td>\n",
              "      <td>0.035518</td>\n",
              "      <td>0.310136</td>\n",
              "      <td>0.083954</td>\n",
              "      <td>0.078726</td>\n",
              "      <td>0.069307</td>\n",
              "      <td>0.000957</td>\n",
              "      <td>0.033515</td>\n",
              "      <td>0.011160</td>\n",
              "      <td>0.033704</td>\n",
              "      <td>0.037690</td>\n",
              "      <td>0.008561</td>\n",
              "    </tr>\n",
              "    <tr>\n",
              "      <th>367</th>\n",
              "      <td>1982-Lee-Strasberg</td>\n",
              "      <td>0.112691</td>\n",
              "      <td>0.096943</td>\n",
              "      <td>0.076245</td>\n",
              "      <td>0.011974</td>\n",
              "      <td>0.024174</td>\n",
              "      <td>0.301229</td>\n",
              "      <td>0.104996</td>\n",
              "      <td>0.034672</td>\n",
              "      <td>0.087135</td>\n",
              "      <td>0.014214</td>\n",
              "      <td>0.071673</td>\n",
              "      <td>0.001528</td>\n",
              "      <td>0.040537</td>\n",
              "      <td>0.019288</td>\n",
              "      <td>0.002703</td>\n",
              "    </tr>\n",
              "    <tr>\n",
              "      <th>122</th>\n",
              "      <td>1994-Jessica-Tandy</td>\n",
              "      <td>0.050420</td>\n",
              "      <td>0.168494</td>\n",
              "      <td>0.097930</td>\n",
              "      <td>0.001781</td>\n",
              "      <td>0.067354</td>\n",
              "      <td>0.300918</td>\n",
              "      <td>0.129907</td>\n",
              "      <td>0.032172</td>\n",
              "      <td>0.082011</td>\n",
              "      <td>0.007690</td>\n",
              "      <td>0.025022</td>\n",
              "      <td>0.001553</td>\n",
              "      <td>0.010677</td>\n",
              "      <td>0.022482</td>\n",
              "      <td>0.001587</td>\n",
              "    </tr>\n",
              "    <tr>\n",
              "      <th>131</th>\n",
              "      <td>1969-Judy-Garland</td>\n",
              "      <td>0.069567</td>\n",
              "      <td>0.134748</td>\n",
              "      <td>0.064667</td>\n",
              "      <td>0.001271</td>\n",
              "      <td>0.034573</td>\n",
              "      <td>0.299925</td>\n",
              "      <td>0.119330</td>\n",
              "      <td>0.040796</td>\n",
              "      <td>0.137880</td>\n",
              "      <td>0.002756</td>\n",
              "      <td>0.026044</td>\n",
              "      <td>0.000272</td>\n",
              "      <td>0.036530</td>\n",
              "      <td>0.031331</td>\n",
              "      <td>0.000310</td>\n",
              "    </tr>\n",
              "  </tbody>\n",
              "</table>\n",
              "</div>\n",
              "    <div class=\"colab-df-buttons\">\n",
              "\n",
              "  <div class=\"colab-df-container\">\n",
              "    <button class=\"colab-df-convert\" onclick=\"convertToInteractive('df-4e508951-b1ab-40ce-8282-eef127531408')\"\n",
              "            title=\"Convert this dataframe to an interactive table.\"\n",
              "            style=\"display:none;\">\n",
              "\n",
              "  <svg xmlns=\"http://www.w3.org/2000/svg\" height=\"24px\" viewBox=\"0 -960 960 960\">\n",
              "    <path d=\"M120-120v-720h720v720H120Zm60-500h600v-160H180v160Zm220 220h160v-160H400v160Zm0 220h160v-160H400v160ZM180-400h160v-160H180v160Zm440 0h160v-160H620v160ZM180-180h160v-160H180v160Zm440 0h160v-160H620v160Z\"/>\n",
              "  </svg>\n",
              "    </button>\n",
              "\n",
              "  <style>\n",
              "    .colab-df-container {\n",
              "      display:flex;\n",
              "      gap: 12px;\n",
              "    }\n",
              "\n",
              "    .colab-df-convert {\n",
              "      background-color: #E8F0FE;\n",
              "      border: none;\n",
              "      border-radius: 50%;\n",
              "      cursor: pointer;\n",
              "      display: none;\n",
              "      fill: #1967D2;\n",
              "      height: 32px;\n",
              "      padding: 0 0 0 0;\n",
              "      width: 32px;\n",
              "    }\n",
              "\n",
              "    .colab-df-convert:hover {\n",
              "      background-color: #E2EBFA;\n",
              "      box-shadow: 0px 1px 2px rgba(60, 64, 67, 0.3), 0px 1px 3px 1px rgba(60, 64, 67, 0.15);\n",
              "      fill: #174EA6;\n",
              "    }\n",
              "\n",
              "    .colab-df-buttons div {\n",
              "      margin-bottom: 4px;\n",
              "    }\n",
              "\n",
              "    [theme=dark] .colab-df-convert {\n",
              "      background-color: #3B4455;\n",
              "      fill: #D2E3FC;\n",
              "    }\n",
              "\n",
              "    [theme=dark] .colab-df-convert:hover {\n",
              "      background-color: #434B5C;\n",
              "      box-shadow: 0px 1px 3px 1px rgba(0, 0, 0, 0.15);\n",
              "      filter: drop-shadow(0px 1px 2px rgba(0, 0, 0, 0.3));\n",
              "      fill: #FFFFFF;\n",
              "    }\n",
              "  </style>\n",
              "\n",
              "    <script>\n",
              "      const buttonEl =\n",
              "        document.querySelector('#df-4e508951-b1ab-40ce-8282-eef127531408 button.colab-df-convert');\n",
              "      buttonEl.style.display =\n",
              "        google.colab.kernel.accessAllowed ? 'block' : 'none';\n",
              "\n",
              "      async function convertToInteractive(key) {\n",
              "        const element = document.querySelector('#df-4e508951-b1ab-40ce-8282-eef127531408');\n",
              "        const dataTable =\n",
              "          await google.colab.kernel.invokeFunction('convertToInteractive',\n",
              "                                                    [key], {});\n",
              "        if (!dataTable) return;\n",
              "\n",
              "        const docLinkHtml = 'Like what you see? Visit the ' +\n",
              "          '<a target=\"_blank\" href=https://colab.research.google.com/notebooks/data_table.ipynb>data table notebook</a>'\n",
              "          + ' to learn more about interactive tables.';\n",
              "        element.innerHTML = '';\n",
              "        dataTable['output_type'] = 'display_data';\n",
              "        await google.colab.output.renderOutput(dataTable, element);\n",
              "        const docLink = document.createElement('div');\n",
              "        docLink.innerHTML = docLinkHtml;\n",
              "        element.appendChild(docLink);\n",
              "      }\n",
              "    </script>\n",
              "  </div>\n",
              "\n",
              "\n",
              "<div id=\"df-8b78e4f3-3b62-420f-a859-879a80e76f3e\">\n",
              "  <button class=\"colab-df-quickchart\" onclick=\"quickchart('df-8b78e4f3-3b62-420f-a859-879a80e76f3e')\"\n",
              "            title=\"Suggest charts\"\n",
              "            style=\"display:none;\">\n",
              "\n",
              "<svg xmlns=\"http://www.w3.org/2000/svg\" height=\"24px\"viewBox=\"0 0 24 24\"\n",
              "     width=\"24px\">\n",
              "    <g>\n",
              "        <path d=\"M19 3H5c-1.1 0-2 .9-2 2v14c0 1.1.9 2 2 2h14c1.1 0 2-.9 2-2V5c0-1.1-.9-2-2-2zM9 17H7v-7h2v7zm4 0h-2V7h2v10zm4 0h-2v-4h2v4z\"/>\n",
              "    </g>\n",
              "</svg>\n",
              "  </button>\n",
              "\n",
              "<style>\n",
              "  .colab-df-quickchart {\n",
              "      --bg-color: #E8F0FE;\n",
              "      --fill-color: #1967D2;\n",
              "      --hover-bg-color: #E2EBFA;\n",
              "      --hover-fill-color: #174EA6;\n",
              "      --disabled-fill-color: #AAA;\n",
              "      --disabled-bg-color: #DDD;\n",
              "  }\n",
              "\n",
              "  [theme=dark] .colab-df-quickchart {\n",
              "      --bg-color: #3B4455;\n",
              "      --fill-color: #D2E3FC;\n",
              "      --hover-bg-color: #434B5C;\n",
              "      --hover-fill-color: #FFFFFF;\n",
              "      --disabled-bg-color: #3B4455;\n",
              "      --disabled-fill-color: #666;\n",
              "  }\n",
              "\n",
              "  .colab-df-quickchart {\n",
              "    background-color: var(--bg-color);\n",
              "    border: none;\n",
              "    border-radius: 50%;\n",
              "    cursor: pointer;\n",
              "    display: none;\n",
              "    fill: var(--fill-color);\n",
              "    height: 32px;\n",
              "    padding: 0;\n",
              "    width: 32px;\n",
              "  }\n",
              "\n",
              "  .colab-df-quickchart:hover {\n",
              "    background-color: var(--hover-bg-color);\n",
              "    box-shadow: 0 1px 2px rgba(60, 64, 67, 0.3), 0 1px 3px 1px rgba(60, 64, 67, 0.15);\n",
              "    fill: var(--button-hover-fill-color);\n",
              "  }\n",
              "\n",
              "  .colab-df-quickchart-complete:disabled,\n",
              "  .colab-df-quickchart-complete:disabled:hover {\n",
              "    background-color: var(--disabled-bg-color);\n",
              "    fill: var(--disabled-fill-color);\n",
              "    box-shadow: none;\n",
              "  }\n",
              "\n",
              "  .colab-df-spinner {\n",
              "    border: 2px solid var(--fill-color);\n",
              "    border-color: transparent;\n",
              "    border-bottom-color: var(--fill-color);\n",
              "    animation:\n",
              "      spin 1s steps(1) infinite;\n",
              "  }\n",
              "\n",
              "  @keyframes spin {\n",
              "    0% {\n",
              "      border-color: transparent;\n",
              "      border-bottom-color: var(--fill-color);\n",
              "      border-left-color: var(--fill-color);\n",
              "    }\n",
              "    20% {\n",
              "      border-color: transparent;\n",
              "      border-left-color: var(--fill-color);\n",
              "      border-top-color: var(--fill-color);\n",
              "    }\n",
              "    30% {\n",
              "      border-color: transparent;\n",
              "      border-left-color: var(--fill-color);\n",
              "      border-top-color: var(--fill-color);\n",
              "      border-right-color: var(--fill-color);\n",
              "    }\n",
              "    40% {\n",
              "      border-color: transparent;\n",
              "      border-right-color: var(--fill-color);\n",
              "      border-top-color: var(--fill-color);\n",
              "    }\n",
              "    60% {\n",
              "      border-color: transparent;\n",
              "      border-right-color: var(--fill-color);\n",
              "    }\n",
              "    80% {\n",
              "      border-color: transparent;\n",
              "      border-right-color: var(--fill-color);\n",
              "      border-bottom-color: var(--fill-color);\n",
              "    }\n",
              "    90% {\n",
              "      border-color: transparent;\n",
              "      border-bottom-color: var(--fill-color);\n",
              "    }\n",
              "  }\n",
              "</style>\n",
              "\n",
              "  <script>\n",
              "    async function quickchart(key) {\n",
              "      const quickchartButtonEl =\n",
              "        document.querySelector('#' + key + ' button');\n",
              "      quickchartButtonEl.disabled = true;  // To prevent multiple clicks.\n",
              "      quickchartButtonEl.classList.add('colab-df-spinner');\n",
              "      try {\n",
              "        const charts = await google.colab.kernel.invokeFunction(\n",
              "            'suggestCharts', [key], {});\n",
              "      } catch (error) {\n",
              "        console.error('Error during call to suggestCharts:', error);\n",
              "      }\n",
              "      quickchartButtonEl.classList.remove('colab-df-spinner');\n",
              "      quickchartButtonEl.classList.add('colab-df-quickchart-complete');\n",
              "    }\n",
              "    (() => {\n",
              "      let quickchartButtonEl =\n",
              "        document.querySelector('#df-8b78e4f3-3b62-420f-a859-879a80e76f3e button');\n",
              "      quickchartButtonEl.style.display =\n",
              "        google.colab.kernel.accessAllowed ? 'block' : 'none';\n",
              "    })();\n",
              "  </script>\n",
              "</div>\n",
              "    </div>\n",
              "  </div>\n"
            ],
            "application/vnd.google.colaboratory.intrinsic+json": {
              "type": "dataframe",
              "summary": "{\n  \"name\": \"df\",\n  \"rows\": 6,\n  \"fields\": [\n    {\n      \"column\": \"document\",\n      \"properties\": {\n        \"dtype\": \"string\",\n        \"num_unique_values\": 6,\n        \"samples\": [\n          \"1990-Greta-Garbo\",\n          \"1959-Ethel-Barrymore\",\n          \"1969-Judy-Garland\"\n        ],\n        \"semantic_type\": \"\",\n        \"description\": \"\"\n      }\n    },\n    {\n      \"column\": \"Topic 0 years died two received\",\n      \"properties\": {\n        \"dtype\": \"float32\",\n        \"num_unique_values\": 6,\n        \"samples\": [\n          0.0638982504606247,\n          0.1348176747560501,\n          0.06956693530082703\n        ],\n        \"semantic_type\": \"\",\n        \"description\": \"\"\n      }\n    },\n    {\n      \"column\": \"Topic 1 wrote said book love\",\n      \"properties\": {\n        \"dtype\": \"float32\",\n        \"num_unique_values\": 6,\n        \"samples\": [\n          0.08035719394683838,\n          0.0947924554347992,\n          0.13474774360656738\n        ],\n        \"semantic_type\": \"\",\n        \"description\": \"\"\n      }\n    },\n    {\n      \"column\": \"Topic 2 said one house many\",\n      \"properties\": {\n        \"dtype\": \"float32\",\n        \"num_unique_values\": 6,\n        \"samples\": [\n          0.1240561231970787,\n          0.0589609369635582,\n          0.06466743350028992\n        ],\n        \"semantic_type\": \"\",\n        \"description\": \"\"\n      }\n    },\n    {\n      \"column\": \"Topic 3 president state roosevelt united\",\n      \"properties\": {\n        \"dtype\": \"float32\",\n        \"num_unique_values\": 6,\n        \"samples\": [\n          0.015635376796126366,\n          0.0031861544121056795,\n          0.0012706079287454486\n        ],\n        \"semantic_type\": \"\",\n        \"description\": \"\"\n      }\n    },\n    {\n      \"column\": \"Topic 4 world million baseball game\",\n      \"properties\": {\n        \"dtype\": \"float32\",\n        \"num_unique_values\": 6,\n        \"samples\": [\n          0.043799832463264465,\n          0.04183167964220047,\n          0.03457263857126236\n        ],\n        \"semantic_type\": \"\",\n        \"description\": \"\"\n      }\n    },\n    {\n      \"column\": \"Topic 5 miss film art theater\",\n      \"properties\": {\n        \"dtype\": \"float32\",\n        \"num_unique_values\": 6,\n        \"samples\": [\n          0.35968104004859924,\n          0.3399188220500946,\n          0.2999253273010254\n        ],\n        \"semantic_type\": \"\",\n        \"description\": \"\"\n      }\n    },\n    {\n      \"column\": \"Topic 6 one would man life\",\n      \"properties\": {\n        \"dtype\": \"float32\",\n        \"num_unique_values\": 6,\n        \"samples\": [\n          0.09220081567764282,\n          0.11381929367780685,\n          0.11932959407567978\n        ],\n        \"semantic_type\": \"\",\n        \"description\": \"\"\n      }\n    },\n    {\n      \"column\": \"Topic 7 made general grant gen\",\n      \"properties\": {\n        \"dtype\": \"float32\",\n        \"num_unique_values\": 6,\n        \"samples\": [\n          0.044070351868867874,\n          0.03759666159749031,\n          0.04079561308026314\n        ],\n        \"semantic_type\": \"\",\n        \"description\": \"\"\n      }\n    },\n    {\n      \"column\": \"Topic 8 year first time mrs\",\n      \"properties\": {\n        \"dtype\": \"float32\",\n        \"num_unique_values\": 6,\n        \"samples\": [\n          0.07500484585762024,\n          0.12558293342590332,\n          0.13788007199764252\n        ],\n        \"semantic_type\": \"\",\n        \"description\": \"\"\n      }\n    },\n    {\n      \"column\": \"Topic 9 black justice court louis\",\n      \"properties\": {\n        \"dtype\": \"float32\",\n        \"num_unique_values\": 6,\n        \"samples\": [\n          0.010819192975759506,\n          0.005538452882319689,\n          0.002756084082648158\n        ],\n        \"semantic_type\": \"\",\n        \"description\": \"\"\n      }\n    },\n    {\n      \"column\": \"Topic 10 work world published university\",\n      \"properties\": {\n        \"dtype\": \"float32\",\n        \"num_unique_values\": 6,\n        \"samples\": [\n          0.04001236334443092,\n          0.001322512049227953,\n          0.026044420897960663\n        ],\n        \"semantic_type\": \"\",\n        \"description\": \"\"\n      }\n    },\n    {\n      \"column\": \"Topic 11 war united general army\",\n      \"properties\": {\n        \"dtype\": \"float32\",\n        \"num_unique_values\": 6,\n        \"samples\": [\n          0.01883838139474392,\n          0.0004305731563363224,\n          0.0002719069307204336\n        ],\n        \"semantic_type\": \"\",\n        \"description\": \"\"\n      }\n    },\n    {\n      \"column\": \"Topic 12 music band jazz new\",\n      \"properties\": {\n        \"dtype\": \"float32\",\n        \"num_unique_values\": 6,\n        \"samples\": [\n          0.003626715624704957,\n          0.009708188474178314,\n          0.03653011843562126\n        ],\n        \"semantic_type\": \"\",\n        \"description\": \"\"\n      }\n    },\n    {\n      \"column\": \"Topic 13 new york times years\",\n      \"properties\": {\n        \"dtype\": \"float32\",\n        \"num_unique_values\": 6,\n        \"samples\": [\n          0.009813942946493626,\n          0.03200243413448334,\n          0.03133126720786095\n        ],\n        \"semantic_type\": \"\",\n        \"description\": \"\"\n      }\n    },\n    {\n      \"column\": \"Topic 14 soviet party communist mao\",\n      \"properties\": {\n        \"dtype\": \"float32\",\n        \"num_unique_values\": 6,\n        \"samples\": [\n          0.018185589462518692,\n          0.000491253798827529,\n          0.0003102267801295966\n        ],\n        \"semantic_type\": \"\",\n        \"description\": \"\"\n      }\n    }\n  ]\n}"
            }
          },
          "metadata": {},
          "execution_count": 43
        }
      ],
      "source": [
        "df.sort_values(by='Topic 5 miss film art theater', ascending=False)[:6]"
      ]
    },
    {
      "cell_type": "code",
      "execution_count": 44,
      "metadata": {
        "id": "Ix2FmmKBMbrf"
      },
      "outputs": [],
      "source": [
        "df.to_csv('Topic-Distributions.csv', encoding='utf-8', index=False)"
      ]
    },
    {
      "cell_type": "markdown",
      "metadata": {
        "id": "EOPgP48aMbrg"
      },
      "source": [
        "## Your Turn!"
      ]
    },
    {
      "cell_type": "markdown",
      "metadata": {
        "id": "QjUt9vR0Mbrg"
      },
      "source": [
        "Choose a topic from the results above and write down its corresponding topic number below."
      ]
    },
    {
      "cell_type": "markdown",
      "metadata": {
        "id": "ZlD48e-sMbrg"
      },
      "source": [
        "**Topic: *Your Number Choice Here***"
      ]
    },
    {
      "cell_type": "markdown",
      "metadata": {
        "id": "T9-SzZ3xMbrh"
      },
      "source": [
        "**1.** Display the top 6 obituary titles for this topic."
      ]
    },
    {
      "cell_type": "code",
      "execution_count": null,
      "metadata": {
        "tags": [
          "hide-cell",
          "remove-cell"
        ],
        "id": "p68RVjOkMbrh"
      },
      "outputs": [],
      "source": [
        "#Your Code Here"
      ]
    },
    {
      "cell_type": "markdown",
      "metadata": {
        "id": "LrrBK-9ZMbrh"
      },
      "source": [
        "**2.** Display the topic words in the context of the original obituary for these 6 top titles."
      ]
    },
    {
      "cell_type": "code",
      "execution_count": null,
      "metadata": {
        "tags": [
          "hide-cell",
          "remove-cell"
        ],
        "id": "KCkAq1tqMbrh"
      },
      "outputs": [],
      "source": [
        "#Your Code Here"
      ]
    },
    {
      "cell_type": "markdown",
      "metadata": {
        "id": "E2bhR6HEMbri"
      },
      "source": [
        "**3.** Come up with a label for your topic and write it below:"
      ]
    },
    {
      "cell_type": "markdown",
      "metadata": {
        "tags": [
          "hide-cell",
          "remove-cell"
        ],
        "id": "0nZn0q-FMbri"
      },
      "source": [
        "**Topic Label: *Your Label Here***"
      ]
    },
    {
      "cell_type": "markdown",
      "metadata": {
        "id": "JA2pHddWMbri"
      },
      "source": [
        "**Reflection**"
      ]
    },
    {
      "cell_type": "markdown",
      "metadata": {
        "id": "TTIaU7yZMbri"
      },
      "source": [
        "**4.** Why did you label your topic the way you did? What do you think this topic means in the context of all the *NYT* obituaries?"
      ]
    },
    {
      "cell_type": "markdown",
      "metadata": {
        "tags": [
          "hide-cell",
          "remove-cell"
        ],
        "id": "BqE3chhLMbri"
      },
      "source": [
        "**#**Your answer here"
      ]
    },
    {
      "cell_type": "markdown",
      "metadata": {
        "id": "SIucGptFMbri"
      },
      "source": [
        "**5.** What's another collection of texts that you think might be interesting to topic model? Why?"
      ]
    },
    {
      "cell_type": "markdown",
      "metadata": {
        "tags": [
          "hide-cell",
          "remove-cell"
        ],
        "id": "Rp4VKfFoMbrj"
      },
      "source": [
        "**#**Your answer here"
      ]
    }
  ],
  "metadata": {
    "kernelspec": {
      "display_name": "Python 3",
      "language": "python",
      "name": "python3"
    },
    "language_info": {
      "codemirror_mode": {
        "name": "ipython",
        "version": 3
      },
      "file_extension": ".py",
      "mimetype": "text/x-python",
      "name": "python",
      "nbconvert_exporter": "python",
      "pygments_lexer": "ipython3",
      "version": "3.9.5"
    },
    "colab": {
      "provenance": []
    }
  },
  "nbformat": 4,
  "nbformat_minor": 0
}